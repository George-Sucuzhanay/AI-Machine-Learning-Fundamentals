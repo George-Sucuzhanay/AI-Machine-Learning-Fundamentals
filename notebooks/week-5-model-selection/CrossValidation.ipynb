{
 "cells": [
  {
   "cell_type": "markdown",
   "metadata": {},
   "source": [
    "# Cross-Validation for KNN"
   ]
  },
  {
   "cell_type": "markdown",
   "metadata": {},
   "source": [
    "In this exercise, you will perform k-fold cross-validation when training a KNN classifier.\n",
    "You will use built-in cross-validation tools from scikit-learn.\n",
    "You will train the KNN model on \"cell2cell,\" a telecom company churn prediction data set.\n",
    "\n",
    "**<font color='red'>Note: Some of the code cells in this notebook may take a while to run.</font>**"
   ]
  },
  {
   "cell_type": "markdown",
   "metadata": {},
   "source": [
    "### Import Packages\n",
    "\n",
    "Before you get started, import a few packages. Run the code cell below. "
   ]
  },
  {
   "cell_type": "code",
   "execution_count": 1,
   "metadata": {},
   "outputs": [],
   "source": [
    "import pandas as pd\n",
    "import numpy as np\n",
    "import os \n",
    "import matplotlib.pyplot as plt\n",
    "import seaborn as sns"
   ]
  },
  {
   "cell_type": "markdown",
   "metadata": {},
   "source": [
    "We will also import the scikit-learn `KNeighborsClassifier`, the `train_test_split()` function for splitting the data into training and test sets, and the metric `accuracy_score` to evaluate our model."
   ]
  },
  {
   "cell_type": "code",
   "execution_count": 2,
   "metadata": {},
   "outputs": [],
   "source": [
    "from sklearn.neighbors import KNeighborsClassifier\n",
    "from sklearn.model_selection import train_test_split\n",
    "from sklearn.metrics import accuracy_score"
   ]
  },
  {
   "cell_type": "markdown",
   "metadata": {},
   "source": [
    "## Step 1: Load a 'ready-to-fit' Data Set\n",
    "\n",
    "We will work with the \"cell2celltrain\" data set. This data set is already preprocessed, with the proper formatting, outliers, and missing values taken care of, and all numerical columns scaled to the [0, 1] interval. One-hot encoding has been performed on all categorical columns. Run the cell below to load the data set and save it to DataFrame `df`."
   ]
  },
  {
   "cell_type": "code",
   "execution_count": 3,
   "metadata": {},
   "outputs": [],
   "source": [
    "filename = os.path.join(os.getcwd(), \"data\", \"cell2celltrain.csv\")\n",
    "df = pd.read_csv(filename, header=0)"
   ]
  },
  {
   "cell_type": "markdown",
   "metadata": {},
   "source": [
    "## Step 2. Create Training and Test Data Sets"
   ]
  },
  {
   "cell_type": "markdown",
   "metadata": {},
   "source": [
    "### a. Create Labeled Examples \n",
    "\n",
    "Let's obtain columns from our data set to create labeled examples. \n",
    "The code cell below carries out the following steps:\n",
    "\n",
    "* Gets the `Churn` column from DataFrame `df` and assigns it to the variable `y`. This is our label.\n",
    "* Gets all other columns from DataFrame `df` and assigns them to the variable `X`. These are our features. \n"
   ]
  },
  {
   "cell_type": "code",
   "execution_count": 4,
   "metadata": {},
   "outputs": [],
   "source": [
    "y = df['Churn']\n",
    "X = df.drop(columns = 'Churn', axis=1)"
   ]
  },
  {
   "cell_type": "markdown",
   "metadata": {},
   "source": [
    "### b. Split Examples Into Training and Test Sets\n",
    "\n",
    "We will mimic a real-world scenario and split our initial data with the purpose of later performing model selection. Recall that when performing model selection, we split our data into 3 subsets: training, validation, and test. We train on our training set, evaluate on our validation set, make necessary tweaks to the hyperparameters, and continue this process until we are content with our model's performance. We save our test set for the very last and final evaluation of how well our model generalizes to new data.\n",
    "\n",
    "While we won't perform model selection in this exercise - that is, we won't train and evaluate different KNN models with different values of hyperparameter $k$ - let's get used to splitting 10% of our data and setting it aside as a test set to be used for a final evaluation.\n",
    "\n",
    "The code cell below splits 10% of our data into a test set."
   ]
  },
  {
   "cell_type": "code",
   "execution_count": 5,
   "metadata": {},
   "outputs": [],
   "source": [
    "X_train, X_test, y_train, y_test = train_test_split(X, y, test_size=0.10, random_state=1234)"
   ]
  },
  {
   "cell_type": "markdown",
   "metadata": {},
   "source": [
    "### c. Inspect the Training and Test Data Sets"
   ]
  },
  {
   "cell_type": "code",
   "execution_count": 6,
   "metadata": {},
   "outputs": [
    {
     "name": "stdout",
     "output_type": "stream",
     "text": [
      "(45942, 84)\n",
      "(5105, 84)\n"
     ]
    }
   ],
   "source": [
    "print(X_train.shape)\n",
    "print(X_test.shape)"
   ]
  },
  {
   "cell_type": "code",
   "execution_count": 7,
   "metadata": {},
   "outputs": [
    {
     "data": {
      "text/html": [
       "<div>\n",
       "<style scoped>\n",
       "    .dataframe tbody tr th:only-of-type {\n",
       "        vertical-align: middle;\n",
       "    }\n",
       "\n",
       "    .dataframe tbody tr th {\n",
       "        vertical-align: top;\n",
       "    }\n",
       "\n",
       "    .dataframe thead th {\n",
       "        text-align: right;\n",
       "    }\n",
       "</style>\n",
       "<table border=\"1\" class=\"dataframe\">\n",
       "  <thead>\n",
       "    <tr style=\"text-align: right;\">\n",
       "      <th></th>\n",
       "      <th>CustomerID</th>\n",
       "      <th>ChildrenInHH</th>\n",
       "      <th>HandsetRefurbished</th>\n",
       "      <th>HandsetWebCapable</th>\n",
       "      <th>TruckOwner</th>\n",
       "      <th>RVOwner</th>\n",
       "      <th>HomeownershipKnown</th>\n",
       "      <th>BuysViaMailOrder</th>\n",
       "      <th>RespondsToMailOffers</th>\n",
       "      <th>OptOutMailings</th>\n",
       "      <th>...</th>\n",
       "      <th>Occupation_Crafts</th>\n",
       "      <th>Occupation_Homemaker</th>\n",
       "      <th>Occupation_Other</th>\n",
       "      <th>Occupation_Professional</th>\n",
       "      <th>Occupation_Retired</th>\n",
       "      <th>Occupation_Self</th>\n",
       "      <th>Occupation_Student</th>\n",
       "      <th>Married_False</th>\n",
       "      <th>Married_True</th>\n",
       "      <th>Married_nan</th>\n",
       "    </tr>\n",
       "  </thead>\n",
       "  <tbody>\n",
       "    <tr>\n",
       "      <th>45106</th>\n",
       "      <td>3356966</td>\n",
       "      <td>False</td>\n",
       "      <td>False</td>\n",
       "      <td>True</td>\n",
       "      <td>False</td>\n",
       "      <td>False</td>\n",
       "      <td>True</td>\n",
       "      <td>False</td>\n",
       "      <td>False</td>\n",
       "      <td>False</td>\n",
       "      <td>...</td>\n",
       "      <td>0.0</td>\n",
       "      <td>0.0</td>\n",
       "      <td>1.0</td>\n",
       "      <td>0.0</td>\n",
       "      <td>0.0</td>\n",
       "      <td>0.0</td>\n",
       "      <td>0.0</td>\n",
       "      <td>0.0</td>\n",
       "      <td>0.0</td>\n",
       "      <td>1.0</td>\n",
       "    </tr>\n",
       "    <tr>\n",
       "      <th>38896</th>\n",
       "      <td>3310250</td>\n",
       "      <td>True</td>\n",
       "      <td>False</td>\n",
       "      <td>True</td>\n",
       "      <td>False</td>\n",
       "      <td>False</td>\n",
       "      <td>True</td>\n",
       "      <td>True</td>\n",
       "      <td>True</td>\n",
       "      <td>False</td>\n",
       "      <td>...</td>\n",
       "      <td>0.0</td>\n",
       "      <td>0.0</td>\n",
       "      <td>1.0</td>\n",
       "      <td>0.0</td>\n",
       "      <td>0.0</td>\n",
       "      <td>0.0</td>\n",
       "      <td>0.0</td>\n",
       "      <td>0.0</td>\n",
       "      <td>0.0</td>\n",
       "      <td>1.0</td>\n",
       "    </tr>\n",
       "    <tr>\n",
       "      <th>29853</th>\n",
       "      <td>3237338</td>\n",
       "      <td>False</td>\n",
       "      <td>False</td>\n",
       "      <td>True</td>\n",
       "      <td>False</td>\n",
       "      <td>False</td>\n",
       "      <td>True</td>\n",
       "      <td>False</td>\n",
       "      <td>False</td>\n",
       "      <td>False</td>\n",
       "      <td>...</td>\n",
       "      <td>0.0</td>\n",
       "      <td>0.0</td>\n",
       "      <td>1.0</td>\n",
       "      <td>0.0</td>\n",
       "      <td>0.0</td>\n",
       "      <td>0.0</td>\n",
       "      <td>0.0</td>\n",
       "      <td>1.0</td>\n",
       "      <td>0.0</td>\n",
       "      <td>0.0</td>\n",
       "    </tr>\n",
       "    <tr>\n",
       "      <th>33048</th>\n",
       "      <td>3263222</td>\n",
       "      <td>False</td>\n",
       "      <td>False</td>\n",
       "      <td>True</td>\n",
       "      <td>False</td>\n",
       "      <td>False</td>\n",
       "      <td>True</td>\n",
       "      <td>True</td>\n",
       "      <td>True</td>\n",
       "      <td>False</td>\n",
       "      <td>...</td>\n",
       "      <td>0.0</td>\n",
       "      <td>0.0</td>\n",
       "      <td>0.0</td>\n",
       "      <td>0.0</td>\n",
       "      <td>1.0</td>\n",
       "      <td>0.0</td>\n",
       "      <td>0.0</td>\n",
       "      <td>0.0</td>\n",
       "      <td>1.0</td>\n",
       "      <td>0.0</td>\n",
       "    </tr>\n",
       "    <tr>\n",
       "      <th>21061</th>\n",
       "      <td>3165118</td>\n",
       "      <td>False</td>\n",
       "      <td>False</td>\n",
       "      <td>True</td>\n",
       "      <td>False</td>\n",
       "      <td>False</td>\n",
       "      <td>False</td>\n",
       "      <td>False</td>\n",
       "      <td>False</td>\n",
       "      <td>False</td>\n",
       "      <td>...</td>\n",
       "      <td>0.0</td>\n",
       "      <td>0.0</td>\n",
       "      <td>1.0</td>\n",
       "      <td>0.0</td>\n",
       "      <td>0.0</td>\n",
       "      <td>0.0</td>\n",
       "      <td>0.0</td>\n",
       "      <td>0.0</td>\n",
       "      <td>0.0</td>\n",
       "      <td>1.0</td>\n",
       "    </tr>\n",
       "  </tbody>\n",
       "</table>\n",
       "<p>5 rows × 84 columns</p>\n",
       "</div>"
      ],
      "text/plain": [
       "       CustomerID  ChildrenInHH  HandsetRefurbished  HandsetWebCapable  \\\n",
       "45106     3356966         False               False               True   \n",
       "38896     3310250          True               False               True   \n",
       "29853     3237338         False               False               True   \n",
       "33048     3263222         False               False               True   \n",
       "21061     3165118         False               False               True   \n",
       "\n",
       "       TruckOwner  RVOwner  HomeownershipKnown  BuysViaMailOrder  \\\n",
       "45106       False    False                True             False   \n",
       "38896       False    False                True              True   \n",
       "29853       False    False                True             False   \n",
       "33048       False    False                True              True   \n",
       "21061       False    False               False             False   \n",
       "\n",
       "       RespondsToMailOffers  OptOutMailings  ...  Occupation_Crafts  \\\n",
       "45106                 False           False  ...                0.0   \n",
       "38896                  True           False  ...                0.0   \n",
       "29853                 False           False  ...                0.0   \n",
       "33048                  True           False  ...                0.0   \n",
       "21061                 False           False  ...                0.0   \n",
       "\n",
       "       Occupation_Homemaker  Occupation_Other  Occupation_Professional  \\\n",
       "45106                   0.0               1.0                      0.0   \n",
       "38896                   0.0               1.0                      0.0   \n",
       "29853                   0.0               1.0                      0.0   \n",
       "33048                   0.0               0.0                      0.0   \n",
       "21061                   0.0               1.0                      0.0   \n",
       "\n",
       "       Occupation_Retired  Occupation_Self  Occupation_Student  Married_False  \\\n",
       "45106                 0.0              0.0                 0.0            0.0   \n",
       "38896                 0.0              0.0                 0.0            0.0   \n",
       "29853                 0.0              0.0                 0.0            1.0   \n",
       "33048                 1.0              0.0                 0.0            0.0   \n",
       "21061                 0.0              0.0                 0.0            0.0   \n",
       "\n",
       "       Married_True  Married_nan  \n",
       "45106           0.0          1.0  \n",
       "38896           0.0          1.0  \n",
       "29853           0.0          0.0  \n",
       "33048           1.0          0.0  \n",
       "21061           0.0          1.0  \n",
       "\n",
       "[5 rows x 84 columns]"
      ]
     },
     "execution_count": 7,
     "metadata": {},
     "output_type": "execute_result"
    }
   ],
   "source": [
    "X_train.head()"
   ]
  },
  {
   "cell_type": "markdown",
   "metadata": {},
   "source": [
    "## Step 3: Fit a KNN Classifier and Perform k-Fold Cross-Validation\n"
   ]
  },
  {
   "cell_type": "markdown",
   "metadata": {},
   "source": [
    "We just created a training set and a test set. We won't use our test set in this exercise, but we will focus on the training set.\n",
    "\n",
    "We will perform k-fold cross-validation on our training set. K-fold cross-validation is an out-of-sample technique that helps estimate how well your model generalizes to new data.\n",
    "\n",
    "k-fold cross-validation splits training data into equally sized subsets, or folds (k). We train and test 'k' times, such that each time, we train on k-1 *training* folds and test on 1 *validation* fold. Therefore, every fold will have a chance to serve as a validation set. We then average the resulting accuracies obtained on each of the k iterations to determine the accuracy of the model.\n",
    "\n",
    "We will use built-in cross-validation tools from `sklearn` that will help us perform a k-fold cross-validation on our KNN model. \n",
    "\n",
    "First, let's create the KNN model object."
   ]
  },
  {
   "cell_type": "markdown",
   "metadata": {},
   "source": [
    "### a. Create the KNN Model Object\n",
    "\n",
    "In the code cell below, using the scikit-learn `KNeighborsClassifier` class, create a KNN model object with a hyperparameter $k$ value of 3 (3 nearest neighbors). Assign the model object to the variable `model`. We will use this model when performing k-fold cross-validation.\n",
    "\n",
    "<b>Note</b>: Don't confuse the KNN hyperparameter $k$ with the 'k' in k-fold cross-validation; they represent different things."
   ]
  },
  {
   "cell_type": "markdown",
   "metadata": {},
   "source": [
    "### Graded Cell\n",
    "\n",
    "The cell below will be graded. Remove the line \"raise NotImplementedError()\" before writing your code."
   ]
  },
  {
   "cell_type": "code",
   "execution_count": 10,
   "metadata": {
    "deletable": false,
    "nbgrader": {
     "checksum": "fa6aaf1b4648bde8fb20c6235d14e791",
     "grade": false,
     "grade_id": "cell-knn",
     "locked": false,
     "schema_version": 1,
     "solution": true
    }
   },
   "outputs": [],
   "source": [
    "# Create the  KNeighborsClassifier model object \n",
    "# YOUR CODE HERE\n",
    "model = KNeighborsClassifier(n_neighbors=3)"
   ]
  },
  {
   "cell_type": "markdown",
   "metadata": {},
   "source": [
    "### Self-Check\n",
    "\n",
    "Run the cell below to test the correctness of your code above before submitting for grading. Do not add code or delete code in the cell. <b>Note</b>: This may take a few minutes to run."
   ]
  },
  {
   "cell_type": "code",
   "execution_count": 11,
   "metadata": {
    "deletable": false,
    "editable": false,
    "nbgrader": {
     "checksum": "6b5e449295bfdee3b7ec5b4a87770ee5",
     "grade": true,
     "grade_id": "cell-knn-test",
     "locked": true,
     "points": 1,
     "schema_version": 1,
     "solution": false
    }
   },
   "outputs": [
    {
     "name": "stdout",
     "output_type": "stream",
     "text": [
      "Correct!\n"
     ]
    }
   ],
   "source": [
    "# Run this self-test cell to check your code; \n",
    "# do not add code or delete code in this cell\n",
    "from jn import testKNN\n",
    "\n",
    "try:\n",
    "    p, err = testKNN(model)\n",
    "    print(err)\n",
    "except Exception as e:\n",
    "    print(\"Error!\\n\" + str(e))\n",
    "    \n"
   ]
  },
  {
   "cell_type": "markdown",
   "metadata": {},
   "source": [
    "### b. Train and Evaluate the Model's Performance Using Two K-fold Cross-Validation Approaches\n",
    "\n"
   ]
  },
  {
   "cell_type": "markdown",
   "metadata": {},
   "source": [
    "### Scikit-Learn's `KFold` Approach\n",
    "\n",
    "First we will use scikit-learn's `KFold` class. This class helps us partition our training data set into k folds. Let's import the `KFold` class from `sklearn`:"
   ]
  },
  {
   "cell_type": "code",
   "execution_count": 12,
   "metadata": {},
   "outputs": [],
   "source": [
    "from sklearn.model_selection import KFold"
   ]
  },
  {
   "cell_type": "markdown",
   "metadata": {},
   "source": [
    "The code cell below is performing 5-fold cross-validation. We use `KFold` to partition our training data (`X_train` and `y_train`) into 5 folds: `KFold` separates our training data into 5 subsets of rows. We then train our KNN model on each subset and evaluate its performance. Therefore, we will train and evaluate our KNN model for a total of 5 times - once per data subset. (Note that we won't change the hyperparameters of our model; our KNN model, with its current configuration of 3 nearest neighbors, will be trained 5 times using different training data subsets.) We will then average the model's accuracy score at each iteration to compute the overall model accuracy. \n",
    "\n",
    "Examine the code cell below. It is doing the following:\n",
    "\n",
    "1. Splits the training set into 5 subsets\n",
    "2. Loops over each subset, and for each data subset it:\n",
    "    1. Splits the data subset into new training and validation sets\n",
    "    2. Trains the KNN model on the new training set\n",
    "    3. Tests the model on the new validation set and computes the accuracy of the model's predictions.\n",
    "    4. Saves the accuracy score to a list.\n",
    "3. Computes the average of the 5 accuracy scores.\n",
    "\n",
    "Run the code cell and inspect the resulting accuracy scores. "
   ]
  },
  {
   "cell_type": "code",
   "execution_count": 13,
   "metadata": {},
   "outputs": [
    {
     "name": "stdout",
     "output_type": "stream",
     "text": [
      "Accuracy score for iteration 1: 0.6283599956469692\n",
      "Accuracy score for iteration 2: 0.6305365110458157\n",
      "Accuracy score for iteration 3: 0.6320200261210275\n",
      "Accuracy score for iteration 4: 0.6238572050500653\n",
      "Accuracy score for iteration 5: 0.630387461906835\n",
      "\n",
      "Average accuracy score: 0.6290322399541426\n"
     ]
    }
   ],
   "source": [
    "num_folds = 5\n",
    "folds = KFold(n_splits = num_folds, random_state=None)\n",
    "\n",
    "acc_scores = []\n",
    "\n",
    "for train_row_index , test_row_index in folds.split(X_train): \n",
    "    \n",
    "    # our new partition of X_train and X_val\n",
    "    X_train_new  = X_train.iloc[train_row_index] \n",
    "    X_val = X_train.iloc[test_row_index]\n",
    "    \n",
    "    # our new partition of y_train and y_val\n",
    "    y_train_new = y_train.iloc[train_row_index]\n",
    "    y_val = y_train.iloc[test_row_index]\n",
    "    \n",
    "    model.fit(X_train_new, y_train_new)\n",
    "    predictions = model.predict(X_val)\n",
    "     \n",
    "    iteration_accuracy = accuracy_score(predictions , y_val)\n",
    "    acc_scores.append(iteration_accuracy)\n",
    "     \n",
    "        \n",
    "for i in range(len(acc_scores)):\n",
    "    print('Accuracy score for iteration {0}: {1}'.format(i+1, acc_scores[i]))\n",
    "\n",
    "avg_scores = sum(acc_scores)/num_folds\n",
    "print('\\nAverage accuracy score: {}'.format(avg_scores))\n"
   ]
  },
  {
   "cell_type": "markdown",
   "metadata": {},
   "source": [
    "###  Scikit-Learn's `cross_val_score` Approach\n",
    "\n",
    "Scikit-learn has another method of performing k-fold cross-validation that performs the steps above in one line of code. This is the `cross_val_score()` function.  It allows you to specify the number of folds 'k'. It automatically and repeatedly subsamples the training and validation sets out of the initial training data and computes the accuracy scores when testing on these validation sets. It returns one accuracy score per iteration ('k' iterations in total). \n",
    "\n",
    "\n",
    "First let's import the function from `sklearn`:"
   ]
  },
  {
   "cell_type": "code",
   "execution_count": 14,
   "metadata": {},
   "outputs": [],
   "source": [
    "from sklearn.model_selection import cross_val_score"
   ]
  },
  {
   "cell_type": "markdown",
   "metadata": {},
   "source": [
    "Inspect the online [documentation](https://scikit-learn.org/stable/modules/cross_validation.html) for the `cross_val_score()` function to learn how to use it."
   ]
  },
  {
   "cell_type": "markdown",
   "metadata": {},
   "source": [
    "In the code cell below, use the `cross_val_score()` function to perform a 5-fold cross-validation for our KNN model and obtain a list of accuracy scores.\n",
    "\n",
    "Call the function with the following arguments:\n",
    "\n",
    "1. Your model object `model`.\n",
    "2. Your training data `X_train` and `y_train`\n",
    "3. Specify the number of folds using the parameter `cv` (`cv=5`). \n",
    "\n",
    "Save the results to the list `accuracy_scores`.\n",
    "\n",
    "Note that for a classifier, the function `cross_val_score()` uses the scikit-learn `accuracy_score` metric by default. If you wanted to use a different evaluation metric, you could specify so using the parameter `scoring` (e.g., `scoring = 'accuracy'`). Since we are interested in obtaining accuracy scores,  you do not have to specify this.\n",
    "\n",
    "<b>Note</b>: This may take a little while to run."
   ]
  },
  {
   "cell_type": "markdown",
   "metadata": {},
   "source": [
    "### Graded Cell\n",
    "\n",
    "The cell below will be graded. Remove the line \"raise NotImplementedError()\" before writing your code."
   ]
  },
  {
   "cell_type": "code",
   "execution_count": 15,
   "metadata": {
    "deletable": false,
    "nbgrader": {
     "checksum": "a02f2035fc35701e49e6480f18d96657",
     "grade": false,
     "grade_id": "cell-crossval",
     "locked": false,
     "schema_version": 1,
     "solution": true
    }
   },
   "outputs": [
    {
     "name": "stdout",
     "output_type": "stream",
     "text": [
      "Running Cross-Validation...\n",
      "Done\n",
      "Accuracies for the five training/test iterations on the validation sets:\n",
      "[0.62890412 0.63075416 0.63006095 0.62483674 0.62940792]\n"
     ]
    }
   ],
   "source": [
    "# Use function cross_val_score() to perform 5-fold cross-validation on the training data and \n",
    "# save the result to variable accuracy_scores\n",
    "print('Running Cross-Validation...')\n",
    "\n",
    "# YOUR CODE HERE\n",
    "accuracy_scores = cross_val_score(model, X_train, y_train, cv=5)\n",
    "\n",
    "print('Done')\n",
    "\n",
    "# Print the accuracy scores\n",
    "print('Accuracies for the five training/test iterations on the validation sets:')\n",
    "print(accuracy_scores)\n",
    "\n"
   ]
  },
  {
   "cell_type": "markdown",
   "metadata": {},
   "source": [
    "### Self-Check\n",
    "\n",
    "Run the cell below to test the correctness of your code above before submitting for grading. Do not add code or delete code in the cell. <b>Note</b>: This may take a little while to run."
   ]
  },
  {
   "cell_type": "code",
   "execution_count": 16,
   "metadata": {
    "deletable": false,
    "editable": false,
    "nbgrader": {
     "checksum": "73c6f5ea494bb81f8d8b857dcd27a935",
     "grade": true,
     "grade_id": "cell-crossval-test",
     "locked": true,
     "points": 3,
     "schema_version": 1,
     "solution": false
    }
   },
   "outputs": [
    {
     "name": "stdout",
     "output_type": "stream",
     "text": [
      "Running Test.....\n",
      "Test Complete. See results below:\n",
      "\n",
      "\n",
      "Correct!\n"
     ]
    }
   ],
   "source": [
    "# Run this self-test cell to check your code; \n",
    "# do not add code or delete code in this cell\n",
    "from jn import testCrossVal\n",
    "\n",
    "try:\n",
    "    p, err = testCrossVal(df, accuracy_scores)\n",
    "    print(err)\n",
    "except Exception as e:\n",
    "    print(\"Error!\\n\" + str(e))\n",
    "    \n"
   ]
  },
  {
   "cell_type": "markdown",
   "metadata": {},
   "source": [
    "The `cross_val_score()` function returns a NumPy array. In the code cell below, use NumPy's `mean()` and `std()` methods on array `accuracy_scores` to find the average accuracy score for our model and to see the degree of variance among each score.\n",
    "\n",
    "Save the mean to variable `acc_mean` and save the standard deviation to the variable `acc_std`."
   ]
  },
  {
   "cell_type": "markdown",
   "metadata": {},
   "source": [
    "### Graded Cell\n",
    "\n",
    "The cell below will be graded. Remove the line \"raise NotImplementedError()\" before writing your code."
   ]
  },
  {
   "cell_type": "code",
   "execution_count": 20,
   "metadata": {
    "deletable": false,
    "nbgrader": {
     "checksum": "51d8b190517769e44577d966df8a4f07",
     "grade": false,
     "grade_id": "cell-meanstd",
     "locked": false,
     "schema_version": 1,
     "solution": true
    }
   },
   "outputs": [
    {
     "name": "stdout",
     "output_type": "stream",
     "text": [
      "The mean accuracy score across the five iterations:\n",
      "0.6287927806206556\n",
      "The standard deviation of the accuracy score across the five iterations:\n",
      "0.0020734655802685143\n"
     ]
    }
   ],
   "source": [
    "# Find the mean accuracy score and save to variable 'acc_mean'\n",
    "acc_mean = np.mean(accuracy_scores)\n",
    "print('The mean accuracy score across the five iterations:')\n",
    "print(acc_mean)\n",
    "\n",
    "\n",
    "# Find the standard deviation of the accuracy score and save to variable 'acc_std'\n",
    "# YOUR CODE HERE\n",
    "acc_std = np.std(accuracy_scores)\n",
    "# Print the standard deviation of the accuracy scores using the std() method to see the degree of variance.\n",
    "print('The standard deviation of the accuracy score across the five iterations:')\n",
    "print(acc_std)\n"
   ]
  },
  {
   "cell_type": "markdown",
   "metadata": {},
   "source": [
    "### Self-Check\n",
    "\n",
    "Run the cell below to test the correctness of your code above before submitting for grading. Do not add code or delete code in the cell. <b>Note</b>: This may take a little while to run."
   ]
  },
  {
   "cell_type": "code",
   "execution_count": 21,
   "metadata": {
    "deletable": false,
    "editable": false,
    "nbgrader": {
     "checksum": "36740e2360d96666a16d8e18af731b6a",
     "grade": true,
     "grade_id": "cell-meanstd-test",
     "locked": true,
     "points": 2,
     "schema_version": 1,
     "solution": false
    }
   },
   "outputs": [
    {
     "name": "stdout",
     "output_type": "stream",
     "text": [
      "Running Test.....\n",
      "Test Complete. See results below:\n",
      "\n",
      "\n",
      "Correct!\n"
     ]
    }
   ],
   "source": [
    "# Run this self-test cell to check your code; \n",
    "# do not add code or delete code in this cell\n",
    "from jn import testMeanStd\n",
    "\n",
    "try:\n",
    "    p, err = testMeanStd(df, acc_mean, acc_std, accuracy_scores)\n",
    "    print(err)\n",
    "except Exception as e:\n",
    "    print(\"Error!\\n\" + str(e))\n",
    "    \n"
   ]
  },
  {
   "cell_type": "markdown",
   "metadata": {},
   "source": [
    "You'll notice that the five resulting accuracy scores are good, and the standard deviation among the scores are low, indicating that our model performs well. "
   ]
  }
 ],
 "metadata": {
  "kernelspec": {
   "display_name": "Python 3",
   "language": "python",
   "name": "python3"
  },
  "language_info": {
   "codemirror_mode": {
    "name": "ipython",
    "version": 3
   },
   "file_extension": ".py",
   "mimetype": "text/x-python",
   "name": "python",
   "nbconvert_exporter": "python",
   "pygments_lexer": "ipython3",
   "version": "3.6.9"
  },
  "toc": {
   "base_numbering": 1,
   "nav_menu": {},
   "number_sections": false,
   "sideBar": true,
   "skip_h1_title": false,
   "title_cell": "Table of Contents",
   "title_sidebar": "Contents",
   "toc_cell": false,
   "toc_position": {},
   "toc_section_display": true,
   "toc_window_display": false
  },
  "varInspector": {
   "cols": {
    "lenName": 16,
    "lenType": 16,
    "lenVar": 40
   },
   "kernels_config": {
    "python": {
     "delete_cmd_postfix": "",
     "delete_cmd_prefix": "del ",
     "library": "var_list.py",
     "varRefreshCmd": "print(var_dic_list())"
    },
    "r": {
     "delete_cmd_postfix": ") ",
     "delete_cmd_prefix": "rm(",
     "library": "var_list.r",
     "varRefreshCmd": "cat(var_dic_list()) "
    }
   },
   "types_to_exclude": [
    "module",
    "function",
    "builtin_function_or_method",
    "instance",
    "_Feature"
   ],
   "window_display": false
  }
 },
 "nbformat": 4,
 "nbformat_minor": 2
}
