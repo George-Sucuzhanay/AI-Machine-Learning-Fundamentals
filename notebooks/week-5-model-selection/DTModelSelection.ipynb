{
 "cells": [
  {
   "cell_type": "markdown",
   "metadata": {},
   "source": [
    "# Decision Tree Model Selection "
   ]
  },
  {
   "cell_type": "markdown",
   "metadata": {},
   "source": [
    "In this exercise, you will perform model selection on decision tree classifiers in order to find the best model. You can refer back to your Unit 3 notebooks if you need a refresher on implementing Decision Trees.\n",
    "\n",
    "* You will train the decision tree models on \"cell2cell,\" a telecom company churn prediction data set.\n",
    "* You will take the training set and perform model selection to find the value of hyperparameter 'max depth' that results in the best cross-validation accuracy score.\n",
    "* You will then implement model selection by using built-in cross-validation tools from `sklearn` that will automatically and repeatedly subsample validation sets out of the training set and compute the accuracy when testing on these validation sets. You will use scikit-learn's `GridSearchCV` and `validation_curve` to accomplish this.\n",
    "\n",
    "**<font color='red'>Note: Some of the code cells in this notebook may take a while to run.</font>**"
   ]
  },
  {
   "cell_type": "markdown",
   "metadata": {},
   "source": [
    "### Import Packages\n",
    "\n",
    "Before you get started, import a few packages. Run the code cell below. "
   ]
  },
  {
   "cell_type": "code",
   "execution_count": 1,
   "metadata": {},
   "outputs": [],
   "source": [
    "import pandas as pd\n",
    "import numpy as np\n",
    "import os \n",
    "import matplotlib.pyplot as plt\n",
    "import seaborn as sns\n"
   ]
  },
  {
   "cell_type": "markdown",
   "metadata": {},
   "source": [
    "We will also import the scikit-learn `DecisionTreeClassifier`, the `train_test_split()` function for splitting the data into training and test sets, the function `cross_val_score` to perform k-fold cross-validation, and the metric `accuracy_score` to evaluate your model."
   ]
  },
  {
   "cell_type": "code",
   "execution_count": 2,
   "metadata": {},
   "outputs": [],
   "source": [
    "from sklearn.tree import DecisionTreeClassifier\n",
    "from sklearn.model_selection import train_test_split\n",
    "from sklearn.metrics import accuracy_score\n",
    "from sklearn.model_selection import cross_val_score"
   ]
  },
  {
   "cell_type": "markdown",
   "metadata": {},
   "source": [
    "##  Step 1: Load a 'ready-to-fit' Data Set \n",
    "\n",
    "We will work with the \"cell2celltrain\" data set. This data set is already preprocessed, with the proper formatting, outliers and missing values taken care of, and all numerical columns scaled to the [0, 1] interval. One-hot encoding has been performed on all categorical columns. Run the cell below to load the data set and save it to DataFrame `df`."
   ]
  },
  {
   "cell_type": "code",
   "execution_count": 3,
   "metadata": {},
   "outputs": [],
   "source": [
    "filename = os.path.join(os.getcwd(), \"data\", \"cell2celltrain.csv\")\n",
    "df = pd.read_csv(filename, header=0)"
   ]
  },
  {
   "cell_type": "markdown",
   "metadata": {},
   "source": [
    "## Step 2: Create Training and Test Data Sets"
   ]
  },
  {
   "cell_type": "markdown",
   "metadata": {},
   "source": [
    "### a. Create Labeled Examples\n",
    "\n",
    "Let's obtain columns from our data set to create labeled examples. \n",
    "In the code cell below, carry out the following steps:\n",
    "\n",
    "* Get the `Churn` column from DataFrame `df` and assign it to the variable `y`. This will be our label.\n",
    "* Assign all other columns from DataFrame `df` to the variable `X`. These will be our features. \n"
   ]
  },
  {
   "cell_type": "markdown",
   "metadata": {},
   "source": [
    "### Graded Cell\n",
    "\n",
    "The cell below will be graded. Remove the line \"raise NotImplementedError()\" before writing your code."
   ]
  },
  {
   "cell_type": "code",
   "execution_count": 4,
   "metadata": {
    "deletable": false,
    "nbgrader": {
     "checksum": "b6cf5802f18072cd910a8e83c4341fd7",
     "grade": false,
     "grade_id": "cell-XY",
     "locked": false,
     "schema_version": 1,
     "solution": true
    }
   },
   "outputs": [],
   "source": [
    "y = df['Churn']\n",
    "X = df.drop(columns = 'Churn', axis=1)"
   ]
  },
  {
   "cell_type": "markdown",
   "metadata": {},
   "source": [
    "### Self-Check\n",
    "\n",
    "Run the cell below to test the correctness of your code above before submitting for grading. Do not add code or delete code in the cell."
   ]
  },
  {
   "cell_type": "code",
   "execution_count": 5,
   "metadata": {
    "deletable": false,
    "editable": false,
    "nbgrader": {
     "checksum": "42fe604bd7ea3dc27ae58171e282c375",
     "grade": true,
     "grade_id": "cell-XY-test",
     "locked": true,
     "points": 1,
     "schema_version": 1,
     "solution": false
    }
   },
   "outputs": [
    {
     "name": "stdout",
     "output_type": "stream",
     "text": [
      "Correct!\n"
     ]
    }
   ],
   "source": [
    "# Run this self-test cell to check your code; \n",
    "# do not add code or delete code in this cell\n",
    "from jn import testXY\n",
    "\n",
    "try:\n",
    "    p, err = testXY(y,X,df)\n",
    "    print(err)\n",
    "except Exception as e:\n",
    "    print(\"Error!\\n\" + str(e))\n",
    "    "
   ]
  },
  {
   "cell_type": "markdown",
   "metadata": {},
   "source": [
    "### b. Split Labeled Examples Into Training and Test Sets"
   ]
  },
  {
   "cell_type": "markdown",
   "metadata": {},
   "source": [
    "Recall that when performing model selection, we split our data into 3 subsets: training, validation, and test. We train on our training set, evaluate on our validation set, make necessary tweaks to the hyperparameters, and continue this process until we are content with our model's performance. We save our test set for the very last and final evaluation of how well our model generalizes to new data.\n",
    "\n",
    "In the code cell below, use the `train_test_split()` function to create training and test sets out of the labeled examples. Create a test set that is 10% (.10) of the size of the data set and use a seed value of 1234.\n",
    "\n",
    "Assign the outputs to the following variable names, using the following order:  `X_train`, `X_test`, `y_train`, `y_test`. "
   ]
  },
  {
   "cell_type": "markdown",
   "metadata": {},
   "source": [
    "### Graded Cell\n",
    "\n",
    "The cell below will be graded. Remove the line \"raise NotImplementedError()\" before writing your code."
   ]
  },
  {
   "cell_type": "code",
   "execution_count": 6,
   "metadata": {
    "deletable": false,
    "nbgrader": {
     "checksum": "6634f8b9656e0ea3a8062dde373580e3",
     "grade": false,
     "grade_id": "cell-splitdata",
     "locked": false,
     "schema_version": 1,
     "solution": true
    }
   },
   "outputs": [],
   "source": [
    "X_train, X_test, y_train, y_test = train_test_split(X, y, test_size=0.10, random_state=1234)"
   ]
  },
  {
   "cell_type": "markdown",
   "metadata": {},
   "source": [
    "### Self-Check\n",
    "\n",
    "Run the cell below to test the correctness of your code above before submitting for grading. Do not add code or delete code in the cell."
   ]
  },
  {
   "cell_type": "code",
   "execution_count": 7,
   "metadata": {
    "deletable": false,
    "editable": false,
    "nbgrader": {
     "checksum": "cbba790689a913abb60cf2df16f8a00e",
     "grade": true,
     "grade_id": "cell-splitdata-test",
     "locked": true,
     "points": 1,
     "schema_version": 1,
     "solution": false
    }
   },
   "outputs": [
    {
     "name": "stdout",
     "output_type": "stream",
     "text": [
      "Correct!\n"
     ]
    }
   ],
   "source": [
    "# Run this self-test cell to check your code; \n",
    "# do not add code or delete code in this cell\n",
    "from jn import testSplit\n",
    "\n",
    "try:\n",
    "    p, err = testSplit(X_train, X_test, y_train, y_test, df)\n",
    "    print(err)\n",
    "except Exception as e:\n",
    "    print(\"Error!\\n\" + str(e))\n",
    "    \n"
   ]
  },
  {
   "cell_type": "markdown",
   "metadata": {},
   "source": [
    "### c. Inspect the Training and Test Data Sets"
   ]
  },
  {
   "cell_type": "code",
   "execution_count": 8,
   "metadata": {},
   "outputs": [
    {
     "name": "stdout",
     "output_type": "stream",
     "text": [
      "(45942, 84)\n",
      "(5105, 84)\n"
     ]
    }
   ],
   "source": [
    "print(X_train.shape)\n",
    "print(X_test.shape)"
   ]
  },
  {
   "cell_type": "code",
   "execution_count": 9,
   "metadata": {},
   "outputs": [
    {
     "data": {
      "text/html": [
       "<div>\n",
       "<style scoped>\n",
       "    .dataframe tbody tr th:only-of-type {\n",
       "        vertical-align: middle;\n",
       "    }\n",
       "\n",
       "    .dataframe tbody tr th {\n",
       "        vertical-align: top;\n",
       "    }\n",
       "\n",
       "    .dataframe thead th {\n",
       "        text-align: right;\n",
       "    }\n",
       "</style>\n",
       "<table border=\"1\" class=\"dataframe\">\n",
       "  <thead>\n",
       "    <tr style=\"text-align: right;\">\n",
       "      <th></th>\n",
       "      <th>CustomerID</th>\n",
       "      <th>ChildrenInHH</th>\n",
       "      <th>HandsetRefurbished</th>\n",
       "      <th>HandsetWebCapable</th>\n",
       "      <th>TruckOwner</th>\n",
       "      <th>RVOwner</th>\n",
       "      <th>HomeownershipKnown</th>\n",
       "      <th>BuysViaMailOrder</th>\n",
       "      <th>RespondsToMailOffers</th>\n",
       "      <th>OptOutMailings</th>\n",
       "      <th>...</th>\n",
       "      <th>Occupation_Crafts</th>\n",
       "      <th>Occupation_Homemaker</th>\n",
       "      <th>Occupation_Other</th>\n",
       "      <th>Occupation_Professional</th>\n",
       "      <th>Occupation_Retired</th>\n",
       "      <th>Occupation_Self</th>\n",
       "      <th>Occupation_Student</th>\n",
       "      <th>Married_False</th>\n",
       "      <th>Married_True</th>\n",
       "      <th>Married_nan</th>\n",
       "    </tr>\n",
       "  </thead>\n",
       "  <tbody>\n",
       "    <tr>\n",
       "      <th>45106</th>\n",
       "      <td>3356966</td>\n",
       "      <td>False</td>\n",
       "      <td>False</td>\n",
       "      <td>True</td>\n",
       "      <td>False</td>\n",
       "      <td>False</td>\n",
       "      <td>True</td>\n",
       "      <td>False</td>\n",
       "      <td>False</td>\n",
       "      <td>False</td>\n",
       "      <td>...</td>\n",
       "      <td>0.0</td>\n",
       "      <td>0.0</td>\n",
       "      <td>1.0</td>\n",
       "      <td>0.0</td>\n",
       "      <td>0.0</td>\n",
       "      <td>0.0</td>\n",
       "      <td>0.0</td>\n",
       "      <td>0.0</td>\n",
       "      <td>0.0</td>\n",
       "      <td>1.0</td>\n",
       "    </tr>\n",
       "    <tr>\n",
       "      <th>38896</th>\n",
       "      <td>3310250</td>\n",
       "      <td>True</td>\n",
       "      <td>False</td>\n",
       "      <td>True</td>\n",
       "      <td>False</td>\n",
       "      <td>False</td>\n",
       "      <td>True</td>\n",
       "      <td>True</td>\n",
       "      <td>True</td>\n",
       "      <td>False</td>\n",
       "      <td>...</td>\n",
       "      <td>0.0</td>\n",
       "      <td>0.0</td>\n",
       "      <td>1.0</td>\n",
       "      <td>0.0</td>\n",
       "      <td>0.0</td>\n",
       "      <td>0.0</td>\n",
       "      <td>0.0</td>\n",
       "      <td>0.0</td>\n",
       "      <td>0.0</td>\n",
       "      <td>1.0</td>\n",
       "    </tr>\n",
       "    <tr>\n",
       "      <th>29853</th>\n",
       "      <td>3237338</td>\n",
       "      <td>False</td>\n",
       "      <td>False</td>\n",
       "      <td>True</td>\n",
       "      <td>False</td>\n",
       "      <td>False</td>\n",
       "      <td>True</td>\n",
       "      <td>False</td>\n",
       "      <td>False</td>\n",
       "      <td>False</td>\n",
       "      <td>...</td>\n",
       "      <td>0.0</td>\n",
       "      <td>0.0</td>\n",
       "      <td>1.0</td>\n",
       "      <td>0.0</td>\n",
       "      <td>0.0</td>\n",
       "      <td>0.0</td>\n",
       "      <td>0.0</td>\n",
       "      <td>1.0</td>\n",
       "      <td>0.0</td>\n",
       "      <td>0.0</td>\n",
       "    </tr>\n",
       "    <tr>\n",
       "      <th>33048</th>\n",
       "      <td>3263222</td>\n",
       "      <td>False</td>\n",
       "      <td>False</td>\n",
       "      <td>True</td>\n",
       "      <td>False</td>\n",
       "      <td>False</td>\n",
       "      <td>True</td>\n",
       "      <td>True</td>\n",
       "      <td>True</td>\n",
       "      <td>False</td>\n",
       "      <td>...</td>\n",
       "      <td>0.0</td>\n",
       "      <td>0.0</td>\n",
       "      <td>0.0</td>\n",
       "      <td>0.0</td>\n",
       "      <td>1.0</td>\n",
       "      <td>0.0</td>\n",
       "      <td>0.0</td>\n",
       "      <td>0.0</td>\n",
       "      <td>1.0</td>\n",
       "      <td>0.0</td>\n",
       "    </tr>\n",
       "    <tr>\n",
       "      <th>21061</th>\n",
       "      <td>3165118</td>\n",
       "      <td>False</td>\n",
       "      <td>False</td>\n",
       "      <td>True</td>\n",
       "      <td>False</td>\n",
       "      <td>False</td>\n",
       "      <td>False</td>\n",
       "      <td>False</td>\n",
       "      <td>False</td>\n",
       "      <td>False</td>\n",
       "      <td>...</td>\n",
       "      <td>0.0</td>\n",
       "      <td>0.0</td>\n",
       "      <td>1.0</td>\n",
       "      <td>0.0</td>\n",
       "      <td>0.0</td>\n",
       "      <td>0.0</td>\n",
       "      <td>0.0</td>\n",
       "      <td>0.0</td>\n",
       "      <td>0.0</td>\n",
       "      <td>1.0</td>\n",
       "    </tr>\n",
       "  </tbody>\n",
       "</table>\n",
       "<p>5 rows × 84 columns</p>\n",
       "</div>"
      ],
      "text/plain": [
       "       CustomerID  ChildrenInHH  HandsetRefurbished  HandsetWebCapable  \\\n",
       "45106     3356966         False               False               True   \n",
       "38896     3310250          True               False               True   \n",
       "29853     3237338         False               False               True   \n",
       "33048     3263222         False               False               True   \n",
       "21061     3165118         False               False               True   \n",
       "\n",
       "       TruckOwner  RVOwner  HomeownershipKnown  BuysViaMailOrder  \\\n",
       "45106       False    False                True             False   \n",
       "38896       False    False                True              True   \n",
       "29853       False    False                True             False   \n",
       "33048       False    False                True              True   \n",
       "21061       False    False               False             False   \n",
       "\n",
       "       RespondsToMailOffers  OptOutMailings  ...  Occupation_Crafts  \\\n",
       "45106                 False           False  ...                0.0   \n",
       "38896                  True           False  ...                0.0   \n",
       "29853                 False           False  ...                0.0   \n",
       "33048                  True           False  ...                0.0   \n",
       "21061                 False           False  ...                0.0   \n",
       "\n",
       "       Occupation_Homemaker  Occupation_Other  Occupation_Professional  \\\n",
       "45106                   0.0               1.0                      0.0   \n",
       "38896                   0.0               1.0                      0.0   \n",
       "29853                   0.0               1.0                      0.0   \n",
       "33048                   0.0               0.0                      0.0   \n",
       "21061                   0.0               1.0                      0.0   \n",
       "\n",
       "       Occupation_Retired  Occupation_Self  Occupation_Student  Married_False  \\\n",
       "45106                 0.0              0.0                 0.0            0.0   \n",
       "38896                 0.0              0.0                 0.0            0.0   \n",
       "29853                 0.0              0.0                 0.0            1.0   \n",
       "33048                 1.0              0.0                 0.0            0.0   \n",
       "21061                 0.0              0.0                 0.0            0.0   \n",
       "\n",
       "       Married_True  Married_nan  \n",
       "45106           0.0          1.0  \n",
       "38896           0.0          1.0  \n",
       "29853           0.0          0.0  \n",
       "33048           1.0          0.0  \n",
       "21061           0.0          1.0  \n",
       "\n",
       "[5 rows x 84 columns]"
      ]
     },
     "execution_count": 9,
     "metadata": {},
     "output_type": "execute_result"
    }
   ],
   "source": [
    "X_train.head()"
   ]
  },
  {
   "cell_type": "markdown",
   "metadata": {},
   "source": [
    "## Step 3: Perform Decision Tree Model Selection\n",
    "\n",
    "Our goal is to find the optimal choice of hyperparameter `max_depth` (the maximum depth of the tree). We want to train decision tree models on the training data set, with different values of hyperparameter `max_depth`, and find the model that results in the best cross-validation (CV) score.\n",
    "\n",
    "The code cell below contains a list of four values for `max_depth`. Run the cell and examine the values."
   ]
  },
  {
   "cell_type": "code",
   "execution_count": 10,
   "metadata": {},
   "outputs": [
    {
     "data": {
      "text/plain": [
       "[4, 8, 16]"
      ]
     },
     "execution_count": 10,
     "metadata": {},
     "output_type": "execute_result"
    }
   ],
   "source": [
    "hyperparams = [2**n for n in range(2,5)]\n",
    "hyperparams"
   ]
  },
  {
   "cell_type": "markdown",
   "metadata": {},
   "source": [
    "In the code cell below, you will use the `max_depth` hyperparameter values contained in list `hyperparams`; you will train three different decision tree classifiers with corresponding `max_depth` values. You will perform a 5-fold cross-validation on each model and obtain the average accuracy score for each of the three models.\n",
    "\n",
    "In the code cell below, a `for` loop that iterates over the list `hyperparams` has been implemented for you. \n",
    "In the loop, do the following:\n",
    "\n",
    "1. Create a `DecisionTreeClassifier` model object with the following arguments: the parameter `max_depth` being equal to the current `max_depth` value contained in list `hyperparams`, and the parameter `min_samples_leaf` being equal to 1. Assign the model object to variable `model`.\n",
    "2. Call the scikit-learn `cross_val_score()` function with the following arguments: your model, the training data, and a value of 5 for the number of folds. Assign the result to the variable `acc_score`.\n",
    "3. Compute the mean of the resulting accuracy scores from the call to  `cross_val_score()` and assign the mean to the variable `acc_mean`.\n",
    "4. Append the mean to the list `accuracy_scores`.\n",
    "\n",
    "\n",
    "At the end of the loop, the performance of each model is printed.\n",
    "\n",
    "<b>Note</b>: This may take a little while to run.\n"
   ]
  },
  {
   "cell_type": "markdown",
   "metadata": {},
   "source": [
    "### Graded Cell\n",
    "\n",
    "The cell below will be graded. Remove the line \"raise NotImplementedError()\" before writing your code."
   ]
  },
  {
   "cell_type": "code",
   "execution_count": 11,
   "metadata": {
    "deletable": false,
    "nbgrader": {
     "checksum": "4129ded9d4d832f060a2d4f02d727815",
     "grade": false,
     "grade_id": "cell-modelselection",
     "locked": false,
     "schema_version": 1,
     "solution": true
    }
   },
   "outputs": [
    {
     "name": "stdout",
     "output_type": "stream",
     "text": [
      "Running k-fold Cross-Validation...\n",
      "Done\n",
      "\n",
      "Accuracy score for max_depth 4: 0.7145966887118208\n",
      "Accuracy score for max_depth 8: 0.7097427372064221\n",
      "Accuracy score for max_depth 16: 0.6706935375827688\n"
     ]
    }
   ],
   "source": [
    "print('Running k-fold Cross-Validation...')\n",
    "\n",
    "accuracy_scores = []\n",
    "\n",
    "for md in hyperparams:\n",
    "    \n",
    "    # 1. Create a DecisionTreeClassifier model object\n",
    "    # YOUR CODE HERE\n",
    "    model = DecisionTreeClassifier(max_depth = md, min_samples_leaf=1)\n",
    "    \n",
    "    # 2. Perform a k-fold cross-validation for the decision tree\n",
    "    # YOUR CODE HERE\n",
    "    acc_score = cross_val_score(model, X_train, y_train, cv = 5)\n",
    "    \n",
    "    # 3. Find the mean of the resulting accuracy scores \n",
    "    # YOUR CODE HERE\n",
    "    acc_mean = np.mean(acc_score)\n",
    "    \n",
    "    # 4. Append the mean score to the list accuracy_scores\n",
    "    # YOUR CODE HERE\n",
    "    accuracy_scores.append(acc_mean)\n",
    "    \n",
    "print('Done\\n')\n",
    "\n",
    "for s in range(len(accuracy_scores)):\n",
    "    print('Accuracy score for max_depth {0}: {1}'.format(hyperparams[s], accuracy_scores[s]))"
   ]
  },
  {
   "cell_type": "markdown",
   "metadata": {},
   "source": [
    "### Self-Check\n",
    "\n",
    "Run the cell below to test the correctness of your code above before submitting for grading. Do not add code or delete code in the cell. <b>Note</b>: This may take a little while to run."
   ]
  },
  {
   "cell_type": "code",
   "execution_count": 12,
   "metadata": {
    "deletable": false,
    "editable": false,
    "nbgrader": {
     "checksum": "60d73155b1774eb9518fb75f38dce6fe",
     "grade": true,
     "grade_id": "cell-modelselection-test",
     "locked": true,
     "points": 3,
     "schema_version": 1,
     "solution": false
    }
   },
   "outputs": [
    {
     "name": "stdout",
     "output_type": "stream",
     "text": [
      "Running Test.....\n",
      "Test Complete. See results below:\n",
      "\n",
      "\n",
      "Correct!\n"
     ]
    }
   ],
   "source": [
    "# Run this self-test cell to check your code; \n",
    "# do not add code or delete code in this cell\n",
    "from jn import testModelSelection\n",
    "\n",
    "try:\n",
    "    p, err = testModelSelection(df, accuracy_scores)\n",
    "    print(err)\n",
    "except Exception as e:\n",
    "    print(\"Error!\\n\" + str(e))\n",
    "    "
   ]
  },
  {
   "cell_type": "markdown",
   "metadata": {},
   "source": [
    "Now that you have found the value of `max_depth` that produces the best model, you can fit a `DecisionTreeClassifier` with that value of `max_depth` on the training data, test your model on the test set (`X_test`), and obtain the final accuracy score of your model's class label predictions.\n",
    "\n",
    "Complete the code cell below by training a `DecisionTreeClassifier` model object with the value of `max_depth` that resulted in the best accuracy score. Use the `min_samples_leaf` parameter of 1."
   ]
  },
  {
   "cell_type": "markdown",
   "metadata": {},
   "source": [
    "### Graded Cell\n",
    "\n",
    "The cell below will be graded. Remove the line \"raise NotImplementedError()\" before writing your code."
   ]
  },
  {
   "cell_type": "code",
   "execution_count": 13,
   "metadata": {
    "deletable": false,
    "nbgrader": {
     "checksum": "2833ccdd0841556d06de6b32a0919494",
     "grade": false,
     "grade_id": "cell-maxdepth",
     "locked": false,
     "schema_version": 1,
     "solution": true
    }
   },
   "outputs": [
    {
     "name": "stdout",
     "output_type": "stream",
     "text": [
      "0.7171400587659158\n"
     ]
    }
   ],
   "source": [
    "# 1. Create a DecisionTreeClassifier model object and assign it to the variable 'model'\n",
    "# YOUR CODE HERE\n",
    "model = DecisionTreeClassifier(criterion = 'entropy', max_depth = 4, min_samples_leaf = 1)\n",
    "    \n",
    "# 2. Fit the model to the training data \n",
    "# YOUR CODE HERE\n",
    "model.fit(X_train, y_train) \n",
    "\n",
    "\n",
    "# 3. Use the predic() method to make predictions on the test data and assign the results to \n",
    "# the variable 'class_label_predictions'\n",
    "# YOUR CODE HERE\n",
    "class_label_predictions= model.predict(X_test) \n",
    "\n",
    "# 4. Compute the accuracy score and assign the result to the variable 'acc_score'\n",
    "# YOUR CODE HERE\n",
    "acc_score = accuracy_score(y_test, class_label_predictions)\n",
    "\n",
    "print(acc_score)"
   ]
  },
  {
   "cell_type": "markdown",
   "metadata": {},
   "source": [
    "### Self-Check\n",
    "\n",
    "Run the cell below to test the correctness of your code above before submitting for grading. Do not add code or delete code in the cell."
   ]
  },
  {
   "cell_type": "code",
   "execution_count": 14,
   "metadata": {
    "deletable": false,
    "editable": false,
    "nbgrader": {
     "checksum": "a4e817ec5e6bac84911c944b1a20f04f",
     "grade": true,
     "grade_id": "cell-maxdepth-test",
     "locked": true,
     "points": 2,
     "schema_version": 1,
     "solution": false
    }
   },
   "outputs": [
    {
     "name": "stdout",
     "output_type": "stream",
     "text": [
      "Correct!\n"
     ]
    }
   ],
   "source": [
    "# Run this self-test cell to check your code; \n",
    "# do not add code or delete code in this cell\n",
    "from jn import testDTModel\n",
    "\n",
    "try:\n",
    "    p, err = testDTModel(df, model,class_label_predictions, acc_score)\n",
    "    print(err)\n",
    "except Exception as e:\n",
    "    print(\"Error!\\n\" + str(e))\n",
    "    "
   ]
  },
  {
   "cell_type": "markdown",
   "metadata": {},
   "source": [
    "## Step 4: Model Selection Using a Validation Curve"
   ]
  },
  {
   "cell_type": "markdown",
   "metadata": {},
   "source": [
    "There are multiple functions in `sklearn` that implement some version of model selection in which they search over different combinations of possible hyperparameter values to find the set that results in the best cross-validation (CV) score.\n",
    "\n",
    "Some of these functions return the validation scores only, some other ones return both the validation and the training set performance (how well the model fits to the data it was trained on), and others have useful attributes where you can retrieve the value of the best-scoring hyperparameter with a simple command. Let's review one of these: the scikit-learn `validation_curve()` function. What you just implemented above can be performed by the `validation_curve()` function in scikit-learn. \n",
    "\n",
    "For more information, consult the [scikit-learn documentation](https://scikit-learn.org/stable/modules/generated/sklearn.model_selection.validation_curve.html).\n",
    "\n",
    "Let's first import the function.\n"
   ]
  },
  {
   "cell_type": "code",
   "execution_count": 15,
   "metadata": {},
   "outputs": [],
   "source": [
    "from sklearn.model_selection import validation_curve"
   ]
  },
  {
   "cell_type": "markdown",
   "metadata": {},
   "source": [
    "The code cell below uses the `validation_curve()` function to train three decision tree models with different values for the `max_depth` hyperparameter (same values as above). It performs cross-validation on each model. It returns the training and validation accuracy scores for each k-fold cross-validation performed.\n",
    "\n",
    "The function expects the following inputs: a model object, the training data, the name of the hyperparameter (in this case, `max_depth`), a range of hyperparameter values, and the number of cross-validation folds (k). Note that for a classifier, the function `cross_val_score()` uses the scikit-learn `accuracy_score` metric by default. \n",
    "\n",
    "Examine the code and run the cells below to inspect the output. <b>Note</b>: This may take a little while to run.\n"
   ]
  },
  {
   "cell_type": "code",
   "execution_count": 16,
   "metadata": {},
   "outputs": [
    {
     "name": "stdout",
     "output_type": "stream",
     "text": [
      "Running Validation Curve Implementation...\n",
      "Done\n",
      "\n",
      "[[0.71400588 0.7141147  0.7152808  0.71538964 0.71419242]\n",
      " [0.71095876 0.70682338 0.70711798 0.71016543 0.71201567]\n",
      " [0.66514311 0.66971379 0.66097083 0.67098389 0.67718764]]\n"
     ]
    }
   ],
   "source": [
    "print('Running Validation Curve Implementation...')\n",
    "\n",
    "# Create a DecisionTreeClassifier model object without supplying arguments\n",
    "model = DecisionTreeClassifier()\n",
    "\n",
    "# Create a range of hyperparameter values for 'max_depth'. Note these are the same values as those we used above\n",
    "hyperparams = [2**n for n in range(2,5)]\n",
    "\n",
    "# Call the validation_curve() function with the appropriate parameters\n",
    "training_scores, validation_scores = validation_curve(model, X_train, y_train,\n",
    "                                       param_name = \"max_depth\",\n",
    "                                       param_range = hyperparams,\n",
    "                                        cv = 5)\n",
    "\n",
    "print('Done\\n')\n",
    "\n",
    "print(validation_scores)\n"
   ]
  },
  {
   "cell_type": "markdown",
   "metadata": {},
   "source": [
    "The cell below outputs the result of 5-fold cross-validation for the different hyperparameter values of `max_depth`. The `max_depth` resulting in the best cross-validation score should match your implementation above."
   ]
  },
  {
   "cell_type": "code",
   "execution_count": 17,
   "metadata": {},
   "outputs": [
    {
     "name": "stdout",
     "output_type": "stream",
     "text": [
      "Results of cross-validation for max_depth of 4: 0.7145966887118208\n",
      "Results of cross-validation for max_depth of 8: 0.7094162433145231\n",
      "Results of cross-validation for max_depth of 16: 0.6687998507424007\n"
     ]
    }
   ],
   "source": [
    "mean_validation_scores = np.mean(validation_scores, axis = 1)\n",
    "for h in range(0, len(hyperparams)):\n",
    "    print('Results of cross-validation for max_depth of {0}: {1}'.format(hyperparams[h], mean_validation_scores[h]))\n",
    "    "
   ]
  },
  {
   "cell_type": "markdown",
   "metadata": {},
   "source": [
    "The code cell below plots the validation curve, with the values of the parameter `max_depth` on the $x$-axis, and the accuracy scores on the validation set on the $y$-axis."
   ]
  },
  {
   "cell_type": "code",
   "execution_count": 18,
   "metadata": {},
   "outputs": [
    {
     "data": {
      "image/png": "[encoded data removed]",
      "text/plain": [
       "<Figure size 432x288 with 1 Axes>"
      ]
     },
     "metadata": {
      "needs_background": "light"
     },
     "output_type": "display_data"
    }
   ],
   "source": [
    "sns.lineplot(x=hyperparams, y=mean_validation_scores, label = \"Cross-validation scores\", color = 'g')\n",
    "\n",
    "plt.title(\"Validation curve for the DT classifier model\")\n",
    "plt.xlabel(\"max_depth\")\n",
    "plt.ylabel(\"Accuracy\")\n",
    "plt.tight_layout()\n",
    "plt.legend(loc = 'best')\n",
    "\n",
    "plt.show()"
   ]
  },
  {
   "cell_type": "markdown",
   "metadata": {},
   "source": [
    "# Step 5: Model Selection Using Grid Search Cross-Validation"
   ]
  },
  {
   "cell_type": "markdown",
   "metadata": {},
   "source": [
    "The function `validation_curve()` finds the best value for one hyperparameter. What if you want to find the best combination of hyperparameter values for more than one hyperparameter?\n",
    "\n",
    "Scikit-learn has a class named `GridSearchCV` that allows you to search over different combinations of possible hyperparameter values to find the set that results in the best cross-validation (CV) score. It accomplishes what you implemented in one line of code.\n",
    "\n",
    "It enables us to find the best-performing combination of values for several hyperparameters. You can find the names of the `DecisionTreeClassifier` hyperparameters in the [scikit-learn documentation](https://scikit-learn.org/stable/modules/generated/sklearn.tree.DecisionTreeClassifier.html). You can also find more information on `GridSearchCV` in the corresponding [scikit-learn documentaton](https://scikit-learn.org/stable/modules/generated/sklearn.model_selection.GridSearchCV.html). Note that for a classifier, `GridSearchCV` uses the scikit-learn `accuracy_score` metric by default. Also note that there are different ways to specify the number of folds using the parameter `cv`. You can supply it the output of scikit-learn's `KFolds`, but for simplicity, in this unit's exercises we will ask you to supply an integer value.\n",
    "\n",
    "Our objective is to determine the optimal choice for two hyperparameters when fitting a decision model to our training data: the maximum depth of the tree (`max_depth`) and the minimum number of samples required to be at a leaf node (`min_samples_leaf`). We will run a grid search over the set of possible parameter value pairs, computing the accuracy score each time. These scores should help us decide on the optimal values of the two parameters.\n"
   ]
  },
  {
   "cell_type": "markdown",
   "metadata": {},
   "source": [
    "###  a. Set Up the Parameter Grid\n",
    "\n",
    "`GridSearchCV` requires a *parameter grid* as an input. This contains the hyperparameter names and their possible values. A *parameter grid* is typically stored as a Python dictionary. Each key/value pair in the dictionary is the name of the hyperparameter and a Python list of possible values.\n",
    "\n",
    "\n",
    "Note: It is important that the key is spelled exactly the same way as the the scikit-learn model class expects its parameters to be spelled. In our case, the `sklearn` function `DecisionTreeClassifier` expects 'max_depth' and 'min_samples_leaf', so be sure to use these spellings as the keys in your dictionary.\n",
    "\n",
    "The code cell below creates a dictionary containing parameter names and lists of their possible values to search over. <br>\n",
    "For `max_depth`, the values are the same as above: four consecutive powers of two. <br>\n",
    "For `min_samples_leaf`, the values are 25, 50, 100."
   ]
  },
  {
   "cell_type": "code",
   "execution_count": 19,
   "metadata": {},
   "outputs": [
    {
     "data": {
      "text/plain": [
       "{'max_depth': [4, 8, 16], 'min_samples_leaf': [25, 50, 100]}"
      ]
     },
     "execution_count": 19,
     "metadata": {},
     "output_type": "execute_result"
    }
   ],
   "source": [
    "# Create a range of hyperparameter values for 'max_depth'. \n",
    "#Note these are the same values as those we used above\n",
    "hyperparams_depth = [2**n for n in range(2,5)]\n",
    "\n",
    "# Create a range of hyperparameter values for 'min_samples_leaf'. \n",
    "hyperparams_leaf = [25*2**n for n in range(0,3)]\n",
    "\n",
    "# Create parameter grid.\n",
    "param_grid={'max_depth':hyperparams_depth, 'min_samples_leaf':hyperparams_leaf}\n",
    "param_grid"
   ]
  },
  {
   "cell_type": "markdown",
   "metadata": {},
   "source": [
    "### b. Perform Grid Search Cross-Validation\n",
    "First, lets import `GridSearchCV`:"
   ]
  },
  {
   "cell_type": "code",
   "execution_count": 20,
   "metadata": {},
   "outputs": [],
   "source": [
    "from sklearn.model_selection import GridSearchCV"
   ]
  },
  {
   "cell_type": "markdown",
   "metadata": {},
   "source": [
    "In the code cell below, use `GridSearchCV` to find the hyperparameters `max_depth` and `min_samples_leaf`  that result in the best model.\n",
    "\n",
    "Follow the following steps:\n",
    "\n",
    "1. Create a `DecisionTreeClassifier` model object without any arguments. Assign the model object to the variable `model`.\n",
    "\n",
    "2. Call `GridSearchCV()` and assign the result to the object `grid`. Call `GridSearchCV()` with the following arguments:\n",
    "    1. Your decision tree model object `model`.\n",
    "    2. The parameter grid `param_grid` that was created above.\n",
    "    3. Use the parameter `cv` and specify that the number of folds is 5 (`cv=5`).\n",
    "\n",
    "3. Call ```grid.fit()```. The first argument should be ```X_train``` and the second argument should be ```y_train```. Save the result to the variable `grid_search`.\n",
    "\n",
    "<b>Note</b>: This may take a little while to run.\n"
   ]
  },
  {
   "cell_type": "markdown",
   "metadata": {},
   "source": [
    "### Graded Cell\n",
    "\n",
    "The cell below will be graded. Remove the line \"raise NotImplementedError()\" before writing your code."
   ]
  },
  {
   "cell_type": "code",
   "execution_count": 21,
   "metadata": {
    "deletable": false,
    "nbgrader": {
     "checksum": "d838fd75ad81eb7c83203f933b1c3872",
     "grade": false,
     "grade_id": "cell-gridsearch",
     "locked": false,
     "schema_version": 1,
     "solution": true
    }
   },
   "outputs": [
    {
     "name": "stdout",
     "output_type": "stream",
     "text": [
      "Running Grid Search...\n",
      "Done\n"
     ]
    }
   ],
   "source": [
    "print('Running Grid Search...')\n",
    "\n",
    "# 1. Create a DecisionTreeClassifier model object without supplying arguemnts\n",
    "# YOUR CODE HERE\n",
    "model = DecisionTreeClassifier()\n",
    "# 2. Run a Grid Search with 5-fold cross-validation using the model.\n",
    "#   Pass all relevant parameters to GridSearchCV and assign the output to the object 'grid'\n",
    "# YOUR CODE HERE\n",
    "grid = GridSearchCV(model, param_grid, cv = 5)\n",
    "\n",
    "\n",
    "# 3. Fit the model on the training data and assign the fitted model to the \n",
    "#    variable grid_search\n",
    "# YOUR CODE HERE\n",
    "grid_search = grid.fit(X_train,y_train)\n",
    "\n",
    "print('Done')"
   ]
  },
  {
   "cell_type": "markdown",
   "metadata": {},
   "source": [
    "### Self-Check\n",
    "\n",
    "Run the cell below to test the correctness of your code above before submitting for grading. Do not add code or delete code in the cell. <b>Note</b>: This may take a few minutes to run."
   ]
  },
  {
   "cell_type": "code",
   "execution_count": 22,
   "metadata": {
    "deletable": false,
    "editable": false,
    "nbgrader": {
     "checksum": "45b760cbd14312b256e158c4b2dfeb9f",
     "grade": true,
     "grade_id": "cell-gridsearch-test",
     "locked": true,
     "points": 3,
     "schema_version": 1,
     "solution": false
    }
   },
   "outputs": [
    {
     "name": "stdout",
     "output_type": "stream",
     "text": [
      "Correct!\n"
     ]
    }
   ],
   "source": [
    "# Run this self-test cell to check your code; \n",
    "# do not add code or delete code in this cell\n",
    "from jn import testGridSearch\n",
    "\n",
    "try:\n",
    "    p, err = testGridSearch(model, grid, grid_search)\n",
    "    print(err)\n",
    "except Exception as e:\n",
    "    print(\"Error!\\n\" + str(e))\n",
    "    "
   ]
  },
  {
   "cell_type": "markdown",
   "metadata": {},
   "source": [
    "### c. Identify the Best Hyperparameter Values\n",
    "\n",
    "The fitted model object `grid_search` has built-in attributes that you can access to examine the results."
   ]
  },
  {
   "cell_type": "code",
   "execution_count": 23,
   "metadata": {},
   "outputs": [
    {
     "name": "stdout",
     "output_type": "stream",
     "text": [
      "Optimal hyperparameters: {'max_depth': 4, 'min_samples_leaf': 50}\n",
      "Accuracy score: 0.7147490424208727\n"
     ]
    }
   ],
   "source": [
    "# Print best-performing hyperparameter configuration\n",
    "print('Optimal hyperparameters: {0}'.format(grid_search.best_params_))\n",
    "\n",
    "# print best accuracy score resulting from this configuration\n",
    "print('Accuracy score: {0}'.format(grid_search.best_score_))"
   ]
  },
  {
   "cell_type": "markdown",
   "metadata": {},
   "source": [
    "Notice that all three model selection techniques returned the same optimal value of `max_depth`."
   ]
  }
 ],
 "metadata": {
  "kernelspec": {
   "display_name": "Python 3",
   "language": "python",
   "name": "python3"
  },
  "language_info": {
   "codemirror_mode": {
    "name": "ipython",
    "version": 3
   },
   "file_extension": ".py",
   "mimetype": "text/x-python",
   "name": "python",
   "nbconvert_exporter": "python",
   "pygments_lexer": "ipython3",
   "version": "3.6.9"
  },
  "toc": {
   "base_numbering": 1,
   "nav_menu": {},
   "number_sections": false,
   "sideBar": true,
   "skip_h1_title": false,
   "title_cell": "Table of Contents",
   "title_sidebar": "Contents",
   "toc_cell": false,
   "toc_position": {},
   "toc_section_display": true,
   "toc_window_display": false
  },
  "varInspector": {
   "cols": {
    "lenName": 16,
    "lenType": 16,
    "lenVar": 40
   },
   "kernels_config": {
    "python": {
     "delete_cmd_postfix": "",
     "delete_cmd_prefix": "del ",
     "library": "var_list.py",
     "varRefreshCmd": "print(var_dic_list())"
    },
    "r": {
     "delete_cmd_postfix": ") ",
     "delete_cmd_prefix": "rm(",
     "library": "var_list.r",
     "varRefreshCmd": "cat(var_dic_list()) "
    }
   },
   "types_to_exclude": [
    "module",
    "function",
    "builtin_function_or_method",
    "instance",
    "_Feature"
   ],
   "window_display": false
  }
 },
 "nbformat": 4,
 "nbformat_minor": 2
}
