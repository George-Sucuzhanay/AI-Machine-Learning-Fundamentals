{
 "cells": [
  {
   "cell_type": "markdown",
   "metadata": {},
   "source": [
    "## NumPy Vectorization and Broadcasting\n",
    "\n",
    "NumPy is one of the core Python packages used in Data Science and Machine Learning. NumPy is short for Numerical Python. The key data structure that is provided by the NumPy package are arrays, called NumPy arrays. These are similar to Python lists. The NumPy package provides a number of different functions for both creating arrays of different sizes, shapes, and types, and for performing various operations on array elements.\n",
    "\n",
    "In this exercise you will become familiar with NumPy arrays and key NumPy techniques called vectorization and broadcasting.\n",
    "\n",
    "<b>Broadcasting</b>: Arrays with different sizes cannot be added, subtracted, or generally be used in arithmetic. A way to overcome this is to duplicate the smaller array so that it is the same dimensionality and size as the larger array. This is called array broadcasting and is available in NumPy when performing array arithmetic. This can greatly reduce and simplify your code.\n",
    "\n",
    "<b>Vectorization</b>: \n",
    "NumPy provides functions that can perform mathematical operations on arrays that would otherwise be performed through the use of for loops. This is a process that is referred to as vectorization. Essentially, instead of using loops to perform certain computations, you can use an available NumPy function. Therefore, if there is a NumPy function available to fit your needs, always use it so as to get much faster performance!\n",
    "\n",
    "For more information about the NumPy package and NumPy arrays, consult the NumPy online [API Reference](https://numpy.org/doc/stable/reference/index.html).\n"
   ]
  },
  {
   "cell_type": "markdown",
   "metadata": {},
   "source": [
    "## Step 1 \n",
    "\n",
    "\n",
    "Let’s start by importing the `numpy` package, using its conventional shorthand name, `np`. By \"conventional shorthand names,\" we mean that it is an agreed-upon convention by the community to use these particular shorthand names, but there is nothing that would stop you from choosing your own shorthand name, or not using a shorthand name at all. In this program, we will use `np` as the shorthand name for the `numpy` package, and we will import the `numpy` package in as follows:  `import numpy as np`.\n",
    "\n",
    "Run the code cell below.\n",
    "\n",
    "<b>Reminder</b>: Prolonged inactivity or navigating to a different page will cause the notebook session to timeout. To resume your work where you left off, be sure to re-run all of the notebook cells in order, starting again at the very beginning with the code cell below.\n",
    "\n"
   ]
  },
  {
   "cell_type": "code",
   "execution_count": null,
   "metadata": {},
   "outputs": [],
   "source": [
    "import numpy as np"
   ]
  },
  {
   "cell_type": "markdown",
   "metadata": {},
   "source": [
    "## Step 2\n",
    "\n",
    "Using the `numpy` function `np.arange()`, define an array of integers from 0-999 and assign it to variable `a`. Create a new variable named `b` and assign it the value of 10.\n",
    "\n",
    "Note: Consult the numpy `arange()` function [documentation](https://numpy.org/doc/stable/reference/generated/numpy.arange.html) to see how to use this function."
   ]
  },
  {
   "cell_type": "markdown",
   "metadata": {},
   "source": [
    "### Graded Cell\n",
    "\n",
    "The cell below will be graded. Remove the line \"raise NotImplementedError()\" before writing your code."
   ]
  },
  {
   "cell_type": "code",
   "execution_count": null,
   "metadata": {
    "deletable": false,
    "nbgrader": {
     "checksum": "ee34189787d27b0e4cfc16d497ebc2f7",
     "grade": false,
     "grade_id": "cell-a-b",
     "locked": false,
     "schema_version": 1,
     "solution": true
    }
   },
   "outputs": [],
   "source": [
    "a = np.arange(0,1000)\n",
    "b = 10"
   ]
  },
  {
   "cell_type": "markdown",
   "metadata": {},
   "source": [
    "### Self-Check\n",
    "\n",
    "Run the cell below to test the correctness of your code above before submitting for grading. Do not add code or delete code in the cell."
   ]
  },
  {
   "cell_type": "code",
   "execution_count": null,
   "metadata": {
    "deletable": false,
    "editable": false,
    "nbgrader": {
     "checksum": "25f47763e5d62d8f02260f837c99cc20",
     "grade": true,
     "grade_id": "cell-a-b-test",
     "locked": true,
     "points": 2,
     "schema_version": 1,
     "solution": false
    }
   },
   "outputs": [],
   "source": [
    "# Run this self-test cell to check your code; \n",
    "# do not add code or delete code in this cell\n",
    "from jn import testAB\n",
    "\n",
    "try:\n",
    "    p, err = testAB(a,b)\n",
    "    print(err)\n",
    "except Exception as e:\n",
    "    print(\"Error!\\n\" + str(e))\n",
    "    \n"
   ]
  },
  {
   "cell_type": "markdown",
   "metadata": {},
   "source": [
    "## Step 3\n",
    "\n",
    "You will write a function that adds a numerical constant value to every element of a numpy array.\n",
    "\n",
    "Complete the function called `array_add_constant` that does the following:\n",
    "\n",
    "1. Takes in two arguments: (1) a `numpy` array of any size, (2) a numeric constant\n",
    "2. Defines an empty Python list (not a `numpy` array) named `new_list`.\n",
    "3. Uses a for loop to loop over the elements of the input `numpy` array and does the following for each element:\n",
    "    * add the numeric constant to the element\n",
    "    * appends the result to the Python list `new_list`.\n",
    "4. Converts  `new_list` to a numpy array using the `np.array()` function. Consult the `array()` function [documentation](https://numpy.org/doc/stable/reference/generated/numpy.array.html) to see how to use this function.\n",
    "5. Returns the` numpy` array.\n",
    "\n"
   ]
  },
  {
   "cell_type": "markdown",
   "metadata": {},
   "source": [
    "### Graded Cell\n",
    "\n",
    "The cell below will be graded. Remove the line \"raise NotImplementedError()\" before writing your code."
   ]
  },
  {
   "cell_type": "code",
   "execution_count": null,
   "metadata": {
    "deletable": false,
    "nbgrader": {
     "checksum": "a90768b7c63f9be76a80a5ffe1ad2fc1",
     "grade": false,
     "grade_id": "cell-arrayAddConstant",
     "locked": false,
     "schema_version": 1,
     "solution": true
    }
   },
   "outputs": [],
   "source": [
    "def array_add_constant(numpy_array, constant):\n",
    "    new_list = []\n",
    "    for i in numpy_array:\n",
    "        new_list.append(numpy_array[i] + constant)\n",
    "    return np.array(new_list)\n",
    "    \n"
   ]
  },
  {
   "cell_type": "markdown",
   "metadata": {},
   "source": [
    "### Self-Check\n",
    "\n",
    "Run the cell below to test the correctness of your code above before submitting for grading. Do not add code or delete code in the cell."
   ]
  },
  {
   "cell_type": "code",
   "execution_count": null,
   "metadata": {
    "deletable": false,
    "editable": false,
    "nbgrader": {
     "checksum": "d4a499fda40cd2dbd8926bbdea7d29a7",
     "grade": true,
     "grade_id": "cell-arrayAddConstant-test",
     "locked": true,
     "points": 2,
     "schema_version": 1,
     "solution": false
    }
   },
   "outputs": [],
   "source": [
    "# Run this self-test cell to check your code; do not add code or delete code in this cell\n",
    "from jn import testFunction\n",
    "\n",
    "try:\n",
    "    p, err = testFunction(array_add_constant)\n",
    "    print(err)\n",
    "except Exception as e:\n",
    "    print(\"Error!\\n\" + str(e))\n",
    "    "
   ]
  },
  {
   "cell_type": "markdown",
   "metadata": {},
   "source": [
    "## Step 4\n",
    "\n",
    "Call your function `array_add_constant` using the arguments you created in Step 1: numpy array `a` and constant `b`. Store the result in a new variable called `ab_loop`."
   ]
  },
  {
   "cell_type": "markdown",
   "metadata": {},
   "source": [
    "### Graded Cell\n",
    "\n",
    "The cell below will be graded. Remove the line \"raise NotImplementedError()\" before writing your code."
   ]
  },
  {
   "cell_type": "code",
   "execution_count": null,
   "metadata": {
    "deletable": false,
    "nbgrader": {
     "checksum": "4db01850168c4854254c3851eb5411a6",
     "grade": false,
     "grade_id": "cell-abLoop",
     "locked": false,
     "schema_version": 1,
     "solution": true
    }
   },
   "outputs": [],
   "source": [
    "ab_loop = array_add_constant(a, b)"
   ]
  },
  {
   "cell_type": "markdown",
   "metadata": {},
   "source": [
    "### Self-Check\n",
    "\n",
    "Run the cell below to test the correctness of your code above before submitting for grading. Do not add code or delete code in the cell."
   ]
  },
  {
   "cell_type": "code",
   "execution_count": null,
   "metadata": {
    "deletable": false,
    "editable": false,
    "nbgrader": {
     "checksum": "0d9d26ab3b9edaf6e0dc2d4df1e2d94b",
     "grade": true,
     "grade_id": "cell-abLoop-test",
     "locked": true,
     "points": 1,
     "schema_version": 1,
     "solution": false
    }
   },
   "outputs": [],
   "source": [
    "# Run this self-test cell to check your code; do not add code or delete code in this cell\n",
    "from jn import testABLoop\n",
    "\n",
    "try:\n",
    "    p, err = testABLoop(array_add_constant,a,b,ab_loop)\n",
    "    print(err)\n",
    "except Exception as e:\n",
    "    print(\"Error!\\n\" + str(e))\n",
    "    "
   ]
  },
  {
   "cell_type": "markdown",
   "metadata": {},
   "source": [
    "## Step 5\n",
    "\n",
    "Note how `numpy` array `ab_loop` was created. \n",
    "\n",
    "Function `array_add_constant` used a few steps, including a `for` loop, to perform a mathemetical operation (addition) on each element of array `a` in order to produce array `ab_loop`.\n",
    "\n",
    "You will now do the same thing using the NumPy way! Create a new variable called `ab_numpy`. Assign it the value of `a + b`. \n",
    "\n"
   ]
  },
  {
   "cell_type": "markdown",
   "metadata": {},
   "source": [
    "### Graded Cell\n",
    "\n",
    "The cell below will be graded. Remove the line \"raise NotImplementedError()\" before writing your code."
   ]
  },
  {
   "cell_type": "code",
   "execution_count": null,
   "metadata": {
    "deletable": false,
    "nbgrader": {
     "checksum": "e436aeba45286357d50084d18bb199a7",
     "grade": false,
     "grade_id": "cell-ab_numpy",
     "locked": false,
     "schema_version": 1,
     "solution": true
    }
   },
   "outputs": [],
   "source": [
    "ab_numpy = a + b"
   ]
  },
  {
   "cell_type": "markdown",
   "metadata": {},
   "source": [
    "### Self-Check\n",
    "\n",
    "Run the cell below to test the correctness of your code above before submitting for grading. Do not add code or delete code in the cell."
   ]
  },
  {
   "cell_type": "code",
   "execution_count": null,
   "metadata": {
    "deletable": false,
    "editable": false,
    "nbgrader": {
     "checksum": "2ff4cda6d8974be05a7ed61d973dce52",
     "grade": true,
     "grade_id": "cell-ab_numpy_test",
     "locked": true,
     "points": 1,
     "schema_version": 1,
     "solution": false
    }
   },
   "outputs": [],
   "source": [
    "# Run this self-test cell to check your code; do not add code or delete code in this cell\n",
    "from jn import testABNumpy\n",
    "\n",
    "try:\n",
    "    p, err = testABNumpy(a,b,ab_numpy)\n",
    "    print(err)\n",
    "except Exception as e:\n",
    "    print(\"Error!\\n\" + str(e))\n",
    "    "
   ]
  },
  {
   "cell_type": "markdown",
   "metadata": {},
   "source": [
    "To further demonstrate that both techniques produce the same results, the cell below contains code to compare `ab_numpy` and `ab_loop` to check whether they are equivalent.\n",
    "\n",
    "1. The cell contains a boolean statement that checks whether `ab_numpy` is equal to`ab_loop`. This statement will compare every element in each array and will return an array that contains boolean values (True or False) for every element. \n",
    "\n",
    "2. The cell also contains the boolean statement with an added `sum()` method that counts how many comparisons are False.\n",
    "\n",
    "Run the cell below and inspect the results.\n"
   ]
  },
  {
   "cell_type": "code",
   "execution_count": null,
   "metadata": {},
   "outputs": [],
   "source": [
    "boolean_array = (ab_numpy != ab_loop)\n",
    "print(boolean_array)\n",
    "\n",
    "sum_of_values = (ab_numpy != ab_loop).sum()\n",
    "print(sum_of_values)"
   ]
  },
  {
   "cell_type": "markdown",
   "metadata": {},
   "source": [
    "##  Step 6\n",
    "\n",
    "Your statement `ab_numpy = a + b` is an example of both <b>vectorization</b> and <b>broadcasting</b>.\n",
    "\n",
    "You performed a mathematical operation that involved an array and one numerical value; you added a value to each element of an array using a simple arithmetic statement `a+b`. This is an example of <b>broadcasting</b>.\n",
    "\n",
    "This also employed the technique of <b>vectorization</b>; the statement took the place of a loop.\n",
    "\n",
    "To demonstrate how <b>vectorization</b> speeds up performance, let's compare the two methods from a time performance perspective.\n",
    "\n",
    "The code cell below uses the `%timeit` magic function to see how long function `array_add_constant(a,b)` takes. Run the cell and inspect the results."
   ]
  },
  {
   "cell_type": "code",
   "execution_count": null,
   "metadata": {},
   "outputs": [],
   "source": [
    "%timeit array_add_constant(a,b)"
   ]
  },
  {
   "cell_type": "markdown",
   "metadata": {},
   "source": [
    "## Step 7\n",
    "\n",
    "Now lets run the same test, but using the technique from Step 5 `a+b`. Run the cell below and inspect the results."
   ]
  },
  {
   "cell_type": "code",
   "execution_count": null,
   "metadata": {},
   "outputs": [],
   "source": [
    "%timeit a+b"
   ]
  },
  {
   "cell_type": "markdown",
   "metadata": {},
   "source": [
    "Reviewing the time it takes to add a constant to a `numpy` array using a loop vs using NumPy techniques. What is the speed difference you recognize? Usually there is a large order of magnitude speed up, demonstrating that whenever possible, always use NumPy techniques!"
   ]
  }
 ],
 "metadata": {
  "kernelspec": {
   "display_name": "Python 3",
   "language": "python",
   "name": "python3"
  },
  "language_info": {
   "codemirror_mode": {
    "name": "ipython",
    "version": 3
   },
   "file_extension": ".py",
   "mimetype": "text/x-python",
   "name": "python",
   "nbconvert_exporter": "python",
   "pygments_lexer": "ipython3",
   "version": "3.6.9"
  },
  "toc": {
   "base_numbering": 1,
   "nav_menu": {},
   "number_sections": false,
   "sideBar": true,
   "skip_h1_title": false,
   "title_cell": "Table of Contents",
   "title_sidebar": "Contents",
   "toc_cell": false,
   "toc_position": {},
   "toc_section_display": true,
   "toc_window_display": false
  },
  "varInspector": {
   "cols": {
    "lenName": 16,
    "lenType": 16,
    "lenVar": 40
   },
   "kernels_config": {
    "python": {
     "delete_cmd_postfix": "",
     "delete_cmd_prefix": "del ",
     "library": "var_list.py",
     "varRefreshCmd": "print(var_dic_list())"
    },
    "r": {
     "delete_cmd_postfix": ") ",
     "delete_cmd_prefix": "rm(",
     "library": "var_list.r",
     "varRefreshCmd": "cat(var_dic_list()) "
    }
   },
   "types_to_exclude": [
    "module",
    "function",
    "builtin_function_or_method",
    "instance",
    "_Feature"
   ],
   "window_display": false
  }
 },
 "nbformat": 4,
 "nbformat_minor": 5
}
