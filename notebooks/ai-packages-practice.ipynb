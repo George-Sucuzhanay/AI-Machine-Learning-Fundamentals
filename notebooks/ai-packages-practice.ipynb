{
 "cells": [
  {
   "cell_type": "markdown",
   "id": "08c69f02",
   "metadata": {},
   "source": [
    "# Module 1: Learning ML at a High-Level\n",
    "## Practicing using ML/AI packages"
   ]
  },
  {
   "cell_type": "code",
   "execution_count": null,
   "id": "f06a8fd2",
   "metadata": {},
   "outputs": [],
   "source": [
    "import pandas as pd\n",
    "import matplotlib.pyplot as plt\n",
    "import seaborn as sns"
   ]
  },
  {
   "cell_type": "code",
   "execution_count": null,
   "id": "55ab90f3",
   "metadata": {},
   "outputs": [],
   "source": [
    "rootdir = '/Users/georgesucuzhanay/github-repos/btt_ai_course'\n",
    "infile = rootdir + 'DATASET LOCATION /data/cell2cell_data.csv'"
   ]
  },
  {
   "cell_type": "code",
   "execution_count": null,
   "id": "4830c447",
   "metadata": {},
   "outputs": [],
   "source": [
    "df = pd.read_csv(infile)"
   ]
  },
  {
   "cell_type": "code",
   "execution_count": null,
   "id": "e430be5d",
   "metadata": {},
   "outputs": [],
   "source": [
    "df.head()"
   ]
  },
  {
   "cell_type": "code",
   "execution_count": null,
   "id": "fa27b90b",
   "metadata": {},
   "outputs": [],
   "source": [
    "sns.histplot(x=df.revenue)"
   ]
  },
  {
   "cell_type": "code",
   "execution_count": null,
   "id": "453b92cb",
   "metadata": {},
   "outputs": [],
   "source": [
    "plt.savefig(rootdir + 'output/revenue_histogram.jpg')"
   ]
  }
 ],
 "metadata": {
  "kernelspec": {
   "display_name": "Python 3 (ipykernel)",
   "language": "python",
   "name": "python3"
  },
  "language_info": {
   "codemirror_mode": {
    "name": "ipython",
    "version": 3
   },
   "file_extension": ".py",
   "mimetype": "text/x-python",
   "name": "python",
   "nbconvert_exporter": "python",
   "pygments_lexer": "ipython3",
   "version": "3.9.12"
  }
 },
 "nbformat": 4,
 "nbformat_minor": 5
}
