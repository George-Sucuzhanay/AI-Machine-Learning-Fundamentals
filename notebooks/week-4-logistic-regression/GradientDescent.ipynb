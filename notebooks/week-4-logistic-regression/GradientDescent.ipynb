{
 "cells": [
  {
   "cell_type": "markdown",
   "metadata": {},
   "source": [
    "# Finding the Minimum of a Function - Multiple Approaches\n",
    "\n",
    "<p>Many machine learning algorithms are optimized by finding the value of weights that minimize a loss function. This minimization is done using numerical optimization techniques, with one popular method being gradient descent. In this exercise you will find the minimum of a function using visual, brute force and gradient descent techniques. In our implementation of gradient descent, we will also explore how what we call the \"learning rate\" determines how fast it takes to find the minimum point."
   ]
  },
  {
   "cell_type": "markdown",
   "metadata": {},
   "source": [
    "### Import Packages\n",
    "\n",
    "Before you get started, import a few packages. Run the code cell below. "
   ]
  },
  {
   "cell_type": "code",
   "execution_count": 1,
   "metadata": {},
   "outputs": [],
   "source": [
    "import numpy as np\n",
    "import seaborn as sns\n",
    "import matplotlib.pyplot as plt"
   ]
  },
  {
   "cell_type": "markdown",
   "metadata": {},
   "source": [
    " ## Step 1: Define a Function"
   ]
  },
  {
   "cell_type": "markdown",
   "metadata": {},
   "source": [
    "Our goal in this exercise will be to use different methods to find the value of $x$  that minimizes a function. We will define a mathematical function to work with. The particular function we will work with is governed by the following equation:<br><br>\n",
    "<center>$f(x) = 0.001 * (3*x-1)^4 + 1.5*(2*x-4)^2+5*x+7$</center><br>\n",
    "Our first task will be to implement this equation as a Python function.\n",
    "\n",
    "The code cell below contains a function definition for function `f_x` that takes in a single input `x`. The function `f_x` will compute the above equation and return the result. Complete the function below by implementing the equation above and assigning the result to variable `result`."
   ]
  },
  {
   "cell_type": "markdown",
   "metadata": {},
   "source": [
    "### Graded Cell\n",
    "\n",
    "The cell below will be graded. Remove the line \"raise NotImplementedError()\" before writing your code."
   ]
  },
  {
   "cell_type": "code",
   "execution_count": 3,
   "metadata": {
    "deletable": false,
    "nbgrader": {
     "checksum": "f18beeee2514d1a1d792b404398aa462",
     "grade": false,
     "grade_id": "cell-fx",
     "locked": false,
     "schema_version": 1,
     "solution": true
    }
   },
   "outputs": [],
   "source": [
    "def f_x(x):  # Do not remove this line of code\n",
    "    \n",
    "    # YOUR CODE HERE\n",
    "    result = 0.001 * (3 * x -1) **4 + 1.5*(2*x - 4)**2 + 5 * x + 7\n",
    "    \n",
    "    return result # Do not remove this line of code"
   ]
  },
  {
   "cell_type": "markdown",
   "metadata": {},
   "source": [
    "### Self-Check\n",
    "\n",
    "Run the cell below to test the correctness of your code above before submitting for grading. Do not add code or delete code in the cell."
   ]
  },
  {
   "cell_type": "code",
   "execution_count": 4,
   "metadata": {
    "deletable": false,
    "editable": false,
    "nbgrader": {
     "checksum": "2f0175f465585a35ab43a34ac88c2e72",
     "grade": true,
     "grade_id": "cell-fx-test",
     "locked": true,
     "points": 1,
     "schema_version": 1,
     "solution": false
    }
   },
   "outputs": [
    {
     "name": "stdout",
     "output_type": "stream",
     "text": [
      "Correct!\n"
     ]
    }
   ],
   "source": [
    "# Run this self-test cell to check your code; \n",
    "# do not add code or delete code in this cell\n",
    "from jn import testFX\n",
    "\n",
    "try:\n",
    "    p, err = testFX(f_x)\n",
    "    print(err)\n",
    "except Exception as e:\n",
    "    print(\"Error!\\n\" + str(e))\n",
    "    "
   ]
  },
  {
   "cell_type": "markdown",
   "metadata": {},
   "source": [
    "## Step 1: Find the Minimum of a Function Visually "
   ]
  },
  {
   "cell_type": "markdown",
   "metadata": {},
   "source": [
    "We will plot this function over a range of inputs. This won't give us a very precise estimate of the value of $x$ that minimizes the function, but it should help us understand the general region where the function is minimized.\n",
    "\n",
    "Complete the code cell below by performing the following steps:\n",
    "1. Create a list containing multiple values of $x$. Use the NumPy `np.linspace()` function to create 1000 points in the range (-10, 10). Save the result to the variable `xs`.\n",
    "2. Call `f_x()` for every value in `xs` and store the result in a list called `ys`.\n",
    "\n",
    "The last line in the code cell uses Seaborn to create a lineplot where `x=xs` and `y=ys`. Try to visually identify the minimum point.\n",
    "\n",
    "For more information on using the `np.linspace()` function, consult the online [documentation](https://numpy.org/doc/stable/reference/generated/numpy.linspace.html)."
   ]
  },
  {
   "cell_type": "markdown",
   "metadata": {},
   "source": [
    "### Graded Cell\n",
    "\n",
    "The cell below will be graded. Remove the line \"raise NotImplementedError()\" before writing your code."
   ]
  },
  {
   "cell_type": "code",
   "execution_count": 25,
   "metadata": {
    "deletable": false,
    "nbgrader": {
     "checksum": "7194566731dae57a2a3e8d2432493042",
     "grade": false,
     "grade_id": "cell-plot",
     "locked": false,
     "schema_version": 1,
     "solution": true
    }
   },
   "outputs": [
    {
     "data": {
      "text/plain": [
       "<AxesSubplot:>"
      ]
     },
     "execution_count": 25,
     "metadata": {},
     "output_type": "execute_result"
    },
    {
     "data": {
      "image/png": "[encoded data removed]",
      "text/plain": [
       "<Figure size 432x288 with 1 Axes>"
      ]
     },
     "metadata": {
      "needs_background": "light"
     },
     "output_type": "display_data"
    }
   ],
   "source": [
    "# YOUR CODE HERE\n",
    "xs = np.linspace(-10,10, num = 1000)\n",
    "ys = list(f_x(xs))\n",
    "              \n",
    "sns.lineplot(x=xs, y=ys) # Do not remove this line of code"
   ]
  },
  {
   "cell_type": "markdown",
   "metadata": {},
   "source": [
    "### Self-Check\n",
    "\n",
    "Run the cell below to test the correctness of your code above before submitting for grading. Do not add code or delete code in the cell."
   ]
  },
  {
   "cell_type": "code",
   "execution_count": 26,
   "metadata": {
    "deletable": false,
    "editable": false,
    "nbgrader": {
     "checksum": "2f92911059495125126a68e40eab8d2e",
     "grade": true,
     "grade_id": "cell-plot-test",
     "locked": true,
     "points": 1,
     "schema_version": 1,
     "solution": false
    }
   },
   "outputs": [
    {
     "name": "stdout",
     "output_type": "stream",
     "text": [
      "Correct!\n"
     ]
    }
   ],
   "source": [
    "# Run this self-test cell to check your code; \n",
    "# do not add code or delete code in this cell\n",
    "from jn import testxsys\n",
    "\n",
    "try:\n",
    "    p, err = testxsys(xs, ys, f_x)\n",
    "    print(err)\n",
    "except Exception as e:\n",
    "    print(\"Error!\\n\" + str(e))\n",
    "    "
   ]
  },
  {
   "cell_type": "markdown",
   "metadata": {},
   "source": [
    "## Step 2: Find the Minimum of a Function Using a Brute Force Approach"
   ]
  },
  {
   "cell_type": "markdown",
   "metadata": {},
   "source": [
    "Now we will try to find the input that minimizes the function `f_x` in a more brute force way. When we say \"brute force\" we just mean looping through a reasonable range of inputs and finding the one that produces the lowest value of `f_x`. We have technically done part of this in the steps above. All we have to do is identify which value of $x$ contained in list`xs` produces the lowest `f_x`.\n",
    "\n",
    "In the code cell below, do the following:\n",
    "1. Use NumPy's `argmin()` function to find the position of `ys` that has the lowest value. Assign the result to variable `x_pos`.\n",
    "2. Use `x_pos` to index into list `xs` to get the corresponding value that minimizes `f_x`. Assign the result to the variable  `x_min`.\n",
    "3. Print `x_min`.\n",
    "\n",
    "For more information on using the `np.argmin()` function, consult the online [documentation](https://numpy.org/doc/stable/reference/generated/numpy.argmin.html)."
   ]
  },
  {
   "cell_type": "markdown",
   "metadata": {},
   "source": [
    "### Graded Cell\n",
    "\n",
    "The cell below will be graded. Remove the line \"raise NotImplementedError()\" before writing your code."
   ]
  },
  {
   "cell_type": "code",
   "execution_count": 34,
   "metadata": {
    "deletable": false,
    "nbgrader": {
     "checksum": "cc106cd4fe503a11ceaf96fe9132a017",
     "grade": false,
     "grade_id": "cell-bruteforece",
     "locked": false,
     "schema_version": 1,
     "solution": true
    }
   },
   "outputs": [
    {
     "name": "stdout",
     "output_type": "stream",
     "text": [
      "576\n"
     ]
    }
   ],
   "source": [
    "# YOUR CODE HERE\n",
    "x_pos = np.argmin(ys)\n",
    "x_min = xs[x_pos]\n",
    "print(x_pos)"
   ]
  },
  {
   "cell_type": "markdown",
   "metadata": {},
   "source": [
    "### Self-Check\n",
    "\n",
    "Run the cell below to test the correctness of your code above before submitting for grading. Do not add code or delete code in the cell."
   ]
  },
  {
   "cell_type": "code",
   "execution_count": 35,
   "metadata": {
    "deletable": false,
    "editable": false,
    "nbgrader": {
     "checksum": "a0aa81b9ffd6c945e305893522608bd9",
     "grade": true,
     "grade_id": "cell-bruteforce-test",
     "locked": true,
     "points": 1,
     "schema_version": 1,
     "solution": false
    }
   },
   "outputs": [
    {
     "name": "stdout",
     "output_type": "stream",
     "text": [
      "Correct!\n"
     ]
    }
   ],
   "source": [
    "# Run this self-test cell to check your code; \n",
    "# do not add code or delete code in this cell\n",
    "from jn import testBF\n",
    "\n",
    "try:\n",
    "    p, err = testBF(xs, ys, x_min, x_pos)\n",
    "    print(err)\n",
    "except Exception as e:\n",
    "    print(\"Error!\\n\" + str(e))\n",
    "    "
   ]
  },
  {
   "cell_type": "markdown",
   "metadata": {},
   "source": [
    "## Step 3: Find the Minimum of a Function Using Gradient Descent\n",
    "\n",
    "Now we will use gradient descent to find the minimum of function `f_x`. We will follow the methods taught in the videos to accomplish this. We will do the following:\n",
    "\n",
    "1. Implement a Python function named `gradient()` that computes the gradient of the function `f_x`.\n",
    "2. Implement a Python function named `hessian()` that uses the Hessian of the function `f_x` to compute the learning rates.\n",
    "3. Create a Python function `gradient_descent()` that implements all of the steps of gradient descent."
   ]
  },
  {
   "cell_type": "markdown",
   "metadata": {},
   "source": [
    "The following is the equation for the gradient of our function `f_x`. <br><br>\n",
    "<center>$grad(x) = 0.012 * (3*x-1)^3 + 12*x-19$</center>\n",
    "\n",
    "In the code cell below, complete the Python function called `gradient()` that returns the gradient of `f_x`. It will take a single input `x` and return the result of the gradient equation.\n",
    "\n",
    "Implement the gradient equation above and assign the result to variable `result`. "
   ]
  },
  {
   "cell_type": "markdown",
   "metadata": {},
   "source": [
    "### Graded Cell\n",
    "\n",
    "The cell below will be graded. Remove the line \"raise NotImplementedError()\" before writing your code."
   ]
  },
  {
   "cell_type": "code",
   "execution_count": 40,
   "metadata": {
    "deletable": false,
    "nbgrader": {
     "checksum": "84b86a3493192f1f807ee1221a869a58",
     "grade": false,
     "grade_id": "cell-gradient",
     "locked": false,
     "schema_version": 1,
     "solution": true
    }
   },
   "outputs": [],
   "source": [
    "def gradient(x): # Do not remove this line of code\n",
    "    \n",
    "    # YOUR CODE HERE\n",
    "    result = 0.012 * (3 * x - 1)**3 + 12 * x - 19\n",
    "    \n",
    "    return result # Do not remove this line of code\n"
   ]
  },
  {
   "cell_type": "markdown",
   "metadata": {},
   "source": [
    "### Self-Check\n",
    "\n",
    "Run the cell below to test the correctness of your code above before submitting for grading. Do not add code or delete code in the cell."
   ]
  },
  {
   "cell_type": "code",
   "execution_count": 41,
   "metadata": {
    "deletable": false,
    "editable": false,
    "nbgrader": {
     "checksum": "81d95e49a9c6d9ae4858ea51eef2fae5",
     "grade": true,
     "grade_id": "cell-gradient-test",
     "locked": true,
     "points": 2,
     "schema_version": 1,
     "solution": false
    }
   },
   "outputs": [
    {
     "name": "stdout",
     "output_type": "stream",
     "text": [
      "Correct!\n"
     ]
    }
   ],
   "source": [
    "# Run this self-test cell to check your code; \n",
    "# do not add code or delete code in this cell\n",
    "from jn import testGradient\n",
    "\n",
    "try:\n",
    "    p, err = testGradient(gradient)\n",
    "    print(err)\n",
    "except Exception as e:\n",
    "    print(\"Error!\\n\" + str(e))\n",
    "    "
   ]
  },
  {
   "cell_type": "markdown",
   "metadata": {},
   "source": [
    "We are also going to use the 2nd derivative of `f_x`, also known as the \"Hessian\", to dynamically compute learning rates. The equation for the Hessian is below:<br><br>\n",
    "\n",
    "<center>$Hess(x) =  0.108 * (3*x-1)^2+12$</center>\n",
    "\n",
    "In the code cell below, complete the Python function called `hessian()` that implements this Hessian. It will take a single input `x` and return the result of the Hessian equation.\n",
    "\n",
    "Implement the Hessian equation above and assign the result to variable `result`. "
   ]
  },
  {
   "cell_type": "markdown",
   "metadata": {},
   "source": [
    "### Graded Cell\n",
    "\n",
    "The cell below will be graded. Remove the line \"raise NotImplementedError()\" before writing your code."
   ]
  },
  {
   "cell_type": "code",
   "execution_count": 42,
   "metadata": {
    "deletable": false,
    "nbgrader": {
     "checksum": "0a06510c3dd603a604cd1d651d0b80f2",
     "grade": false,
     "grade_id": "cell-hessian",
     "locked": false,
     "schema_version": 1,
     "solution": true
    }
   },
   "outputs": [],
   "source": [
    "def hessian(x): # Do not remove this line of code\n",
    "    \n",
    "    # YOUR CODE HERE\n",
    "    result = 0.108 * (3 * x - 1)** 2 + 12\n",
    "     \n",
    "    return result # Do not remove this line of code"
   ]
  },
  {
   "cell_type": "markdown",
   "metadata": {},
   "source": [
    "### Self-Check\n",
    "\n",
    "Run the cell below to test the correctness of your code above before submitting for grading. Do not add code or delete code in the cell."
   ]
  },
  {
   "cell_type": "code",
   "execution_count": 43,
   "metadata": {
    "deletable": false,
    "editable": false,
    "nbgrader": {
     "checksum": "91676506074edc46a814199561572238",
     "grade": true,
     "grade_id": "cell-hessian-test",
     "locked": true,
     "points": 2,
     "schema_version": 1,
     "solution": false
    }
   },
   "outputs": [
    {
     "name": "stdout",
     "output_type": "stream",
     "text": [
      "Correct!\n"
     ]
    }
   ],
   "source": [
    "# Run this self-test cell to check your code; \n",
    "# do not add code or delete code in this cell\n",
    "from jn import testHessian\n",
    "\n",
    "try:\n",
    "    p, err = testHessian(hessian)\n",
    "    print(err)\n",
    "except Exception as e:\n",
    "    print(\"Error!\\n\" + str(e))\n",
    "    "
   ]
  },
  {
   "cell_type": "markdown",
   "metadata": {},
   "source": [
    "Next we will create a Python function that implements all steps of gradient descent. It returns two values: 1. the value of $w$ that minimizes the function 2. the number of steps that it took to reach convergence.\n",
    "\n",
    "The code cell below contains a shell of a function named `gradient_descent()`. Your task is to complete the code within the loop, which performs the core logic of a gradient update step.\n",
    "\n",
    "Complete the following steps within the loop of the `gradient_descent()` function below:\n",
    "1. Use the `gradient()` function to compute the gradient. Call the `gradient()` function with `w_prior` as an argument. Assign the result to variable `grad`\n",
    "2. Compute the learning rate (also known as \"step size\"). Call the `hessian()` function with `w_prior` as an argument. Get the inverse of the result and assign it to variable `learning_rate`. Note: In the video's code sample, the learning rate is represented by the variable `stepsize`.\n",
    "3. Perform the gradient update step as $w_{t+1}=w_t-(step size) * (gradient)$  . Assign the result to variable `w`. Note that $w_{t+1}$  is represented by `w` and $w_t$ is represented by `w_prior`.\n",
    "4. Check for convergence. If the absolute value of `w-w_prior` is less than the `tolerance` then break from the loop. Use the NumPy function `np.abs()` to find the absolute value.\n",
    "5. Set `w_prior` to the current value of `w` (must be done after checking for convergence, so make sure to follow step 4 above and break out from the loop if the condition fails)."
   ]
  },
  {
   "cell_type": "markdown",
   "metadata": {},
   "source": [
    "### Graded Cell\n",
    "\n",
    "The cell below will be graded. Remove the line \"raise NotImplementedError()\" before writing your code."
   ]
  },
  {
   "cell_type": "code",
   "execution_count": 44,
   "metadata": {
    "deletable": false,
    "nbgrader": {
     "checksum": "96a99d6cb265c1143c6e70354b060433",
     "grade": false,
     "grade_id": "cell-gd",
     "locked": false,
     "schema_version": 1,
     "solution": true
    }
   },
   "outputs": [],
   "source": [
    "def gradient_descent(w_0, #initial starting point (scalar),\n",
    "                     hessian, # function used to compute learning rate (step size) \n",
    "                     gradient, # function used to compute the gradient\n",
    "                     tolerance=10**-6, #difference for convergence testing\n",
    "                     max_iter=100 #maximum number of updates to run\n",
    "                    ):\n",
    "    \n",
    "    #record prior value for convergence testing\n",
    "    w_prior = w_0 \n",
    "    \n",
    "    for i in range(max_iter):\n",
    "        \n",
    "        #---DO NOT DELETE OR EDIT THE CODE ABOVE THIS LINE-----------------------------|  \n",
    "        #---Write Your Code Below -----------------------------|\n",
    "        \n",
    "        #1. compute gradient at current level using the gradient() function\n",
    "        # YOUR CODE HERE\n",
    "        grad = gradient(w_prior)\n",
    "        \n",
    "        #2. compute learning rate at current level using the hessian() function\n",
    "        # YOUR CODE HERE\n",
    "        stepsize = hessian(w_prior)**-1\n",
    "        \n",
    "        #3. update the next weight w based on w_prior, learning rate and grad\n",
    "        # YOUR CODE HERE\n",
    "        w = w_prior - stepsize * grad\n",
    "        \n",
    "        #4. check for convergence\n",
    "        # YOUR CODE HERE\n",
    "        if np.abs(w-w_prior) < tolerance:\n",
    "            break\n",
    "            \n",
    "        #5. set w_prior to current w\n",
    "        # YOUR CODE HERE\n",
    "        w_prior = w\n",
    "        \n",
    "        #---DO NOT DELETE OR EDIT THE CODE BELOW THIS LINE-----------------------------|  \n",
    "\n",
    "    \n",
    "    return w, i"
   ]
  },
  {
   "cell_type": "markdown",
   "metadata": {},
   "source": [
    "### Self-Check\n",
    "\n",
    "Run the cell below to test the correctness of your code above before submitting for grading. Do not add code or delete code in the cell."
   ]
  },
  {
   "cell_type": "code",
   "execution_count": 45,
   "metadata": {
    "deletable": false,
    "editable": false,
    "nbgrader": {
     "checksum": "1a04db19b8a38d90b6d9f3353c701260",
     "grade": true,
     "grade_id": "cell-gd-test",
     "locked": true,
     "points": 3,
     "schema_version": 1,
     "solution": false
    }
   },
   "outputs": [
    {
     "name": "stdout",
     "output_type": "stream",
     "text": [
      "Correct!\n"
     ]
    }
   ],
   "source": [
    "# Run this self-test cell to check your code; \n",
    "# do not add code or delete code in this cell\n",
    "from jn import testGD\n",
    "try:\n",
    "    p, err = testGD(gradient_descent, hessian, gradient)\n",
    "    print(err)\n",
    "except Exception as e:\n",
    "    print(\"Error!\\n\" + str(e))\n",
    "    "
   ]
  },
  {
   "cell_type": "markdown",
   "metadata": {},
   "source": [
    "Now let's run the `gradient_descent()` function. The code cell below calls the `gradient_descent()` function using `0` as the initial guess of the weight. It also passes the functions `hessian()` and `gradient()` as arguments. Run the cell and inspect the results. The first value returned by the `gradient_descent()` function is the value of $w$ that minimizes the function `f_x`. Compare this value to the value returned by the 'brute force' approach above. Are they close?"
   ]
  },
  {
   "cell_type": "code",
   "execution_count": 46,
   "metadata": {},
   "outputs": [
    {
     "name": "stdout",
     "output_type": "stream",
     "text": [
      "1.536327250817171\n",
      "3\n"
     ]
    }
   ],
   "source": [
    "value_of_w, convergence_speed = gradient_descent(0, hessian, gradient)\n",
    "print(value_of_w)\n",
    "print(convergence_speed)"
   ]
  },
  {
   "cell_type": "markdown",
   "metadata": {},
   "source": [
    "Rather than using the Hessian approach, what if we want to use a constant learning rate?\n",
    "\n",
    "Note that the second element returned by the `gradient_descent()` function shows the number of steps it took to reach convergence. Let's compare the convergence speed of the Hessian method for computing learning rates to a different method in which we use a constant learning rate.\n",
    "\n",
    "We will create a new function to replace the `hessian()` function. This new function will return a constant learning rate. We designed the `gradient_descent()` function to accept hessian and gradient functions as arguments. This enables us to pass our new function to `gradient_descent()` to be used in place of the `hessian()` function.\n",
    "\n",
    "The code cell below:\n",
    "1. Creates a variable called `learning_rate` and sets its value to 0.01\n",
    "2. Creates a new function called `h()`. It uses Python's `lambda` to create this function. The function `h()` returns a constant learning rate: `1 / learning_rate`.\n",
    "3. Calls the `gradient_descent()` function using `0` as the initial guess, the function `h()` as the hessian argument, and the function `gradient()` as the gradient argument."
   ]
  },
  {
   "cell_type": "code",
   "execution_count": 47,
   "metadata": {},
   "outputs": [
    {
     "data": {
      "text/plain": [
       "(1.5363209133528162, 86)"
      ]
     },
     "execution_count": 47,
     "metadata": {},
     "output_type": "execute_result"
    }
   ],
   "source": [
    "learning_rate = 0.01\n",
    "\n",
    "# function that will replaces the hessian() function above\n",
    "h = lambda x: 1 / learning_rate\n",
    "\n",
    "gradient_descent(0, h, gradient)"
   ]
  },
  {
   "cell_type": "markdown",
   "metadata": {},
   "source": [
    "Notice the difference in convergence speeds between these two methods.\n",
    "\n",
    "We are now going to extend this by looping over a range of learning rates, calling the `gradient_descent()` function with each learning rate, and comparing the resulting convergence speeds. This will help illustrate how sensitive the convergence is to the choice of learning rate and to also illustrate why the Hessian approach is better.\n",
    "\n",
    "The code cell below:\n",
    "1. Creates a list of learning rates called `learning_rates`using the NumPy `linspace()` function. \n",
    "2. Creates an empty list called `results`\n",
    "3. Uses a `for` loop that iterates over each value of `learning_rates`. Within the loop:\n",
    "    1. Create a `lambda` function called `h` that returns a constant learning rate: `1 / current_learning_rate`\n",
    "    2. Calls the `gradient_descent()` function using `0` as the initial guess, the function `h` as the  hessian argument and the function `gradient()` as the gradient argument. \n",
    "    3. Stores the resulting convergence speeds."
   ]
  },
  {
   "cell_type": "code",
   "execution_count": 48,
   "metadata": {},
   "outputs": [],
   "source": [
    "learning_rates = np.linspace(0.01, 0.1, 20)\n",
    "\n",
    "convergence_speeds = []\n",
    "\n",
    "for current_learning_rate in learning_rates:\n",
    "    h = lambda x: 1 / current_learning_rate\n",
    "    w, convergence_speed = gradient_descent(0, h, gradient)\n",
    "    convergence_speeds.append(convergence_speed)"
   ]
  },
  {
   "cell_type": "markdown",
   "metadata": {},
   "source": [
    "Now let's visualize the results of this analysis. \n",
    "\n",
    "Run the code cell below to create a bar chart of our results. Take some time to see what learning rate is best and compare the convergence speed at that learning rate to the convergence speed of the Hessian method. Also notice has sensitive the speed is to the choice of learning rate."
   ]
  },
  {
   "cell_type": "code",
   "execution_count": 49,
   "metadata": {},
   "outputs": [
    {
     "data": {
      "image/png": "[encoded data removed]",
      "text/plain": [
       "<Figure size 1080x360 with 1 Axes>"
      ]
     },
     "metadata": {
      "needs_background": "light"
     },
     "output_type": "display_data"
    }
   ],
   "source": [
    "fig = plt.figure(figsize=(15,5))\n",
    "ax = sns.barplot(x=learning_rates, y=convergence_speeds)\n",
    "g = ax.set_xticklabels([np.round(x, 4) for x in learning_rates])\n",
    "plt.title('# Iterations to Converge by Learning Rate')\n",
    "g = ax.set_xlabel('Learning Rate')\n",
    "g = ax.set_ylabel('Iterations')\n",
    "g = plt.axhline(y=convergence_speeds[1],color='black')"
   ]
  },
  {
   "cell_type": "code",
   "execution_count": null,
   "metadata": {},
   "outputs": [],
   "source": []
  }
 ],
 "metadata": {
  "kernelspec": {
   "display_name": "Python 3",
   "language": "python",
   "name": "python3"
  },
  "language_info": {
   "codemirror_mode": {
    "name": "ipython",
    "version": 3
   },
   "file_extension": ".py",
   "mimetype": "text/x-python",
   "name": "python",
   "nbconvert_exporter": "python",
   "pygments_lexer": "ipython3",
   "version": "3.6.9"
  },
  "toc": {
   "base_numbering": 1,
   "nav_menu": {},
   "number_sections": false,
   "sideBar": true,
   "skip_h1_title": false,
   "title_cell": "Table of Contents",
   "title_sidebar": "Contents",
   "toc_cell": false,
   "toc_position": {},
   "toc_section_display": true,
   "toc_window_display": false
  },
  "varInspector": {
   "cols": {
    "lenName": 16,
    "lenType": 16,
    "lenVar": 40
   },
   "kernels_config": {
    "python": {
     "delete_cmd_postfix": "",
     "delete_cmd_prefix": "del ",
     "library": "var_list.py",
     "varRefreshCmd": "print(var_dic_list())"
    },
    "r": {
     "delete_cmd_postfix": ") ",
     "delete_cmd_prefix": "rm(",
     "library": "var_list.r",
     "varRefreshCmd": "cat(var_dic_list()) "
    }
   },
   "types_to_exclude": [
    "module",
    "function",
    "builtin_function_or_method",
    "instance",
    "_Feature"
   ],
   "window_display": false
  }
 },
 "nbformat": 4,
 "nbformat_minor": 5
}
