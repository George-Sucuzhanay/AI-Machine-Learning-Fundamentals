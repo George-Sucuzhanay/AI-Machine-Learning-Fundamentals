{
 "cells": [
  {
   "cell_type": "markdown",
   "metadata": {},
   "source": [
    "# Assignment 4: Optimizing Logistic Regression"
   ]
  },
  {
   "cell_type": "code",
   "execution_count": 1,
   "metadata": {},
   "outputs": [],
   "source": [
    "import pandas as pd\n",
    "import numpy as np\n",
    "import os \n",
    "import matplotlib.pyplot as plt\n",
    "import seaborn as sns\n",
    "%matplotlib inline\n",
    "\n",
    "from sklearn.linear_model import LogisticRegression\n",
    "from sklearn.model_selection import train_test_split \n",
    "from sklearn.metrics import log_loss\n",
    "from sklearn.metrics import accuracy_score"
   ]
  },
  {
   "cell_type": "markdown",
   "metadata": {},
   "source": [
    "In this assignment, you will build logistic regression models using \"Cell2Cell\", a telecom company churn prediction data set. You will build many variants, each one with a different value of the $C$ hyperparameter, which governs the amount of regularization used. Regularization is a process where we add a \"penalty\" to the original log loss function. This penalty is a function of the magnitudes of the weights learned in the Logistic Regression. The following shows the regularized log loss using what is called \"L2\" regularization.<br><br> \n",
    "\n",
    "<center>$Regularized \\ LogLoss = -\\frac{1}{n} \\sum\\limits_{i=1}^n (y_i*log(p_i)+(1-y_i)*log(1-p_i))+\\frac{1}{C} \\sum\\limits_{j=1}^m W_j^2$</center><br><br>\n",
    "\n",
    "\n",
    "\n",
    "With L2 regularization, the penalty is the sum of the squares of the weights scaled by a constant $1/C$. When the hyperparameter $C$ is large, we reduce the weight of the penalty, which results in less regularization. You will build Logistic regressions with different values of $C$ and will check how this impacts the log loss."
   ]
  },
  {
   "cell_type": "markdown",
   "metadata": {},
   "source": [
    "In this assignment, you will implement the following steps:\n",
    "\n",
    "1. Load the \"cell2celltrain\" data set.\n",
    "2. Create unlabeled examples containing numerical features only.\n",
    "3. Split the data into training and test data sets.\n",
    "4. Fit a Logistic Regression classifier using scikit-learn and evaluate the log loss and accuracy of the predictions.\n",
    "5. Fit multiple Logistic Regression classifiers with different values of the regularization hyperparameter $C$ and plot the resulting log loss and accuracy."
   ]
  },
  {
   "cell_type": "markdown",
   "metadata": {},
   "source": [
    "## Part 1. Load the Data Set"
   ]
  },
  {
   "cell_type": "markdown",
   "metadata": {},
   "source": [
    "We will work with the \"cell2celltrain\" data set."
   ]
  },
  {
   "cell_type": "code",
   "execution_count": 2,
   "metadata": {},
   "outputs": [],
   "source": [
    "# Do not remove or edit the line below:\n",
    "filename = os.path.join(os.getcwd(), \"data\", \"cell2celltrain.csv\")"
   ]
  },
  {
   "cell_type": "markdown",
   "metadata": {},
   "source": [
    "**Task**: Load the data and save it to DataFrame `df`."
   ]
  },
  {
   "cell_type": "code",
   "execution_count": 3,
   "metadata": {},
   "outputs": [],
   "source": [
    "df = pd.read_csv(filename, header =0)"
   ]
  },
  {
   "cell_type": "markdown",
   "metadata": {},
   "source": [
    "## Part 2: Create Labeled Examples from the Data Set "
   ]
  },
  {
   "cell_type": "markdown",
   "metadata": {},
   "source": [
    "To implement a Logistic Regression model, we must use only the numeric columns. \n",
    "\n",
    "\n",
    "<b>Task</b>: Use the Pandas DataFrame <code>select_dtypes()</code> method to obtain all of names of columns that have a dtype of \"float64.\" Save the result to a list named `feature_list`. "
   ]
  },
  {
   "cell_type": "code",
   "execution_count": 5,
   "metadata": {},
   "outputs": [],
   "source": [
    "feature_list = list(df.select_dtypes(include = ['float64']).columns)"
   ]
  },
  {
   "cell_type": "markdown",
   "metadata": {},
   "source": [
    "<b>Task</b>: Create labeled examples from DataFrame `df`.\n",
    "\n",
    "In the code cell below carry out the following steps:\n",
    "\n",
    "* Get the `Churn` column from DataFrame `df` and assign it to the variable `y`. This will be our label. The label will be either True or False.\n",
    "* Get the columns listed in `feature_list`from DataFrame `df` and assign them to the variable `X`. These will be our features. \n",
    "\n",
    "You should have 51047 labeled examples. Each example contains 35 features and one label (`Churn`)."
   ]
  },
  {
   "cell_type": "code",
   "execution_count": 6,
   "metadata": {},
   "outputs": [
    {
     "name": "stdout",
     "output_type": "stream",
     "text": [
      "Number of examples: 51047\n",
      "\n",
      "Number of Features:35\n",
      "['MonthlyRevenue', 'MonthlyMinutes', 'TotalRecurringCharge', 'DirectorAssistedCalls', 'OverageMinutes', 'RoamingCalls', 'PercChangeMinutes', 'PercChangeRevenues', 'DroppedCalls', 'BlockedCalls', 'UnansweredCalls', 'CustomerCareCalls', 'ThreewayCalls', 'ReceivedCalls', 'OutboundCalls', 'InboundCalls', 'PeakCallsInOut', 'OffPeakCallsInOut', 'DroppedBlockedCalls', 'CallForwardingCalls', 'CallWaitingCalls', 'MonthsInService', 'UniqueSubs', 'ActiveSubs', 'Handsets', 'HandsetModels', 'CurrentEquipmentDays', 'AgeHH1', 'AgeHH2', 'RetentionCalls', 'RetentionOffersAccepted', 'ReferralsMadeBySubscriber', 'IncomeGroup', 'AdjustmentsToCreditRating', 'HandsetPrice']\n"
     ]
    }
   ],
   "source": [
    "# YOUR CODE HERE\n",
    "y = df['Churn']\n",
    "X = df[feature_list]\n",
    "\n",
    "print(\"Number of examples: \" + str(X.shape[0]))\n",
    "print(\"\\nNumber of Features:\" + str(X.shape[1]))\n",
    "print(str(list(X.columns)))\n"
   ]
  },
  {
   "cell_type": "markdown",
   "metadata": {},
   "source": [
    "## Part 3: Create Training and Test Data Sets"
   ]
  },
  {
   "cell_type": "markdown",
   "metadata": {},
   "source": [
    "<b>Task</b>: In the code cell below create training and test data sets out of the labeled examples. \n",
    "\n",
    "1. Use scikit-learn's `train_test_split()` method to create the data sets.\n",
    "\n",
    "2. Specify:\n",
    "    * A test set that is 33 percent (.33) of the size of the data set.\n",
    "    * A seed value of '1234'. \n",
    "    \n"
   ]
  },
  {
   "cell_type": "code",
   "execution_count": 7,
   "metadata": {},
   "outputs": [],
   "source": [
    "X_train, X_test, y_train, y_test = train_test_split(X,y, test_size = 0.33, random_state = 1234)"
   ]
  },
  {
   "cell_type": "markdown",
   "metadata": {},
   "source": [
    "Check that the dimensions of the training and test data sets are what you expected:"
   ]
  },
  {
   "cell_type": "code",
   "execution_count": 8,
   "metadata": {
    "scrolled": true
   },
   "outputs": [
    {
     "name": "stdout",
     "output_type": "stream",
     "text": [
      "(34201, 35)\n",
      "(16846, 35)\n"
     ]
    }
   ],
   "source": [
    "print(X_train.shape)\n",
    "print(X_test.shape)"
   ]
  },
  {
   "cell_type": "markdown",
   "metadata": {},
   "source": [
    "## Part 4. Fit a Logistic Regression Classifier and Evaluate the Model"
   ]
  },
  {
   "cell_type": "markdown",
   "metadata": {},
   "source": [
    "The code cell below contains a shell of a function named `train_test_LR()`. This function will train a Logistic Regression model on the training data, test the resulting model on the test data, and compute and return (1) the log loss of the resulting probability predictions on the test data and (2) the accuracy score of the resulting predicted class labels on the test data. \n",
    "\n",
    "Inspect the function definition `train_test_LR(X_train, X_test, y_train, y_test, c=1)`. The function expects the test and train datasets as well as a value for hyperparameter $C$. Note that we supplied the value of 1 for $C$ by default.\n",
    "\n",
    "You will use the scikit-learn ```LogisticRegression``` class. Use `LogisticRegression()` to create a model object, and assign the result to the variable ```model```. You will provide the arguments `C=c`.\n",
    "\n",
    "<b>Task:</b> Complete the function to make it work.\n"
   ]
  },
  {
   "cell_type": "code",
   "execution_count": 26,
   "metadata": {},
   "outputs": [],
   "source": [
    "def train_test_LR(X_train, y_train, X_test, y_test, c=1):\n",
    "    '''\n",
    "    Fit a Linear Regression classifier to the training data X_train, y_train.\n",
    "    Return the loss and accuracy of resulting predictions on the test set.\n",
    "    Parameters:\n",
    "        C = Factor that controls how much regularization is applied to the model.\n",
    "    '''\n",
    "     # 1. Create the  scikit-learn LogisticRegression model object below and assign to variable 'model'\n",
    "    model = LogisticRegression(C = c)\n",
    "    \n",
    "    # 2. Fit the model to the training data below\n",
    "    model.fit(X_train, y_train)\n",
    "    \n",
    "    # 3. Make predictions on the test data using the predict_proba() method and assign the result to the \n",
    "    # variable 'probability_predictions' below\n",
    "    probability_predictions = model.predict_proba(X_test)\n",
    "    \n",
    "    # 4. Compute the log loss on 'probability_predictions' and save the result to the variable 'l_loss' below\n",
    "    l_loss = log_loss(y_test, probability_predictions)\n",
    "        \n",
    "        \n",
    "    # 5. Make predictions on the test data using the predict() method and assign the result to the \n",
    "    # variable 'class_label_predictions' below\n",
    "    class_label_predictions = model.predict(X_test)\n",
    "        \n",
    "        \n",
    "    # 6. Compute the accuracy score on 'class_label_predictions' and save the result to the variable 'acc_score' below\n",
    "    acc_score = accuracy_score(y_test,class_label_predictions )\n",
    "    \n",
    "    \n",
    "    return l_loss, acc_score\n"
   ]
  },
  {
   "cell_type": "markdown",
   "metadata": {},
   "source": [
    "###  Train a Model and Analyze the Results"
   ]
  },
  {
   "cell_type": "markdown",
   "metadata": {},
   "source": [
    "The code cell below uses your function `train_test_LR()` to train one Logistic Regression classifier with the default value of hyperparameter C (`c=1`) and evaluates the model's predictions on the test data. Run the code cell and inspect the resulting loss and accuracy."
   ]
  },
  {
   "cell_type": "code",
   "execution_count": 27,
   "metadata": {},
   "outputs": [
    {
     "name": "stdout",
     "output_type": "stream",
     "text": [
      "Log loss: 0.5878612157234154\n",
      "Accuracy: 0.7097827377418972\n"
     ]
    }
   ],
   "source": [
    "loss, acc = train_test_LR(X_train, y_train, X_test, y_test, 1)\n",
    "print('Log loss: ' + str(loss))\n",
    "print('Accuracy: ' + str(acc))"
   ]
  },
  {
   "cell_type": "markdown",
   "metadata": {},
   "source": [
    "## Part 5. Train on Different Hyperparameter Values and Analyze the Results"
   ]
  },
  {
   "cell_type": "markdown",
   "metadata": {},
   "source": [
    "Now we will adjust the $C$ Regularization hyperparameter to check its impact on the model's log loss. In the scikit-learn ``LogisticRegression`` class documentation, parameter `C` stands for the inverse of regularization strength. Smaller values specify stronger regularization.<br>\n",
    "\n",
    "The code cell below creates a list `cs` of twenty values of $C$.  Every item in the list has a value $10^e$ for every integer $e$ in the output of `range(-10,10)`. Run the code cell below and inspect the different values of $C$."
   ]
  },
  {
   "cell_type": "code",
   "execution_count": 28,
   "metadata": {},
   "outputs": [
    {
     "data": {
      "text/plain": [
       "[1e-10,\n",
       " 1e-09,\n",
       " 1e-08,\n",
       " 1e-07,\n",
       " 1e-06,\n",
       " 1e-05,\n",
       " 0.0001,\n",
       " 0.001,\n",
       " 0.01,\n",
       " 0.1,\n",
       " 1,\n",
       " 10,\n",
       " 100,\n",
       " 1000,\n",
       " 10000,\n",
       " 100000,\n",
       " 1000000,\n",
       " 10000000,\n",
       " 100000000,\n",
       " 1000000000]"
      ]
     },
     "execution_count": 28,
     "metadata": {},
     "output_type": "execute_result"
    }
   ],
   "source": [
    "cs = [10**i for i in range(-10,10)]\n",
    "cs"
   ]
  },
  {
   "cell_type": "markdown",
   "metadata": {},
   "source": [
    "Now we want to train and evaluate a different Logistic Regression model for every value of $C$ in the list `cs`. \n",
    "\n",
    "<b>Task</b>: In the code cell below, follow these steps:\n",
    "\n",
    "1. Initialize an empty Python list called `ll_cs`. This is where we will store the log loss for every model.\n",
    "2. Initialize an empty Python list called `acc_cs`. This is where we will store the accuracy score for every model.\n",
    "2. Write a loop that iterates over list `cs`. Within the loop, do the following:\n",
    "3. Call your function `train_test_LR()` with the training and test data and with the current value of $C$.\n",
    "4. The function `train_test_LR()` returns two items. \n",
    "    1. Append the first item to the list `ll_cs`.\n",
    "    2. Append the second item to the list `acc_cs`.\n"
   ]
  },
  {
   "cell_type": "code",
   "execution_count": 29,
   "metadata": {},
   "outputs": [
    {
     "name": "stdout",
     "output_type": "stream",
     "text": [
      "0.6019882218839937 , 0.710198266650837\n",
      "0.6019879879688644 , 0.710198266650837\n",
      "0.6019856457586286 , 0.710198266650837\n",
      "0.6019623116656803 , 0.710198266650837\n",
      "0.6017368944992653 , 0.710198266650837\n",
      "0.6000102566181061 , 0.710198266650837\n",
      "0.5939550491932645 , 0.710198266650837\n",
      "0.5882530046237049 , 0.7104950730143654\n",
      "0.5876588226394333 , 0.7099014602873086\n",
      "0.5878358928085038 , 0.7099014602873086\n",
      "0.5878612157234154 , 0.7097827377418972\n",
      "0.5878648343540144 , 0.7098420990146028\n",
      "0.5878651012583641 , 0.7098420990146028\n",
      "0.5878651279496575 , 0.7098420990146028\n",
      "0.5878651306188114 , 0.7098420990146028\n",
      "0.5878651308857203 , 0.7098420990146028\n",
      "0.5878651309124223 , 0.7098420990146028\n",
      "0.5878651309150801 , 0.7098420990146028\n",
      "0.5878651309153498 , 0.7098420990146028\n",
      "0.5878651309153768 , 0.7098420990146028\n"
     ]
    }
   ],
   "source": [
    "ll_cs = []\n",
    "acc_cs = []\n",
    "for i in cs:\n",
    "    a, b = train_test_LR(X_train, y_train, X_test, y_test, c=i)\n",
    "    ll_cs.append(a)\n",
    "    acc_cs.append(b)\n",
    "    print(str(a) + \" , \" + str(b))"
   ]
  },
  {
   "cell_type": "markdown",
   "metadata": {},
   "source": [
    "Now lets visualize the results. \n",
    "\n",
    "#### Plot Log Loss\n",
    "\n",
    "Execute the code below to plot the resulting log loss for every value of hyperparameter $C$. Take some time to study the code, which uses `seaborn` to build the main plot and `matplotlib` to customize it."
   ]
  },
  {
   "cell_type": "code",
   "execution_count": 30,
   "metadata": {},
   "outputs": [
    {
     "data": {
      "image/png": "[encoded data removed]",
      "text/plain": [
       "<Figure size 1080x360 with 1 Axes>"
      ]
     },
     "metadata": {
      "needs_background": "light"
     },
     "output_type": "display_data"
    }
   ],
   "source": [
    "plt.figure(figsize=(15,5)) \n",
    "\n",
    "ax = sns.barplot(x=cs, y=ll_cs)\n",
    "g = ax.set_xticklabels([f'10^{i}' for i in range(-10,10)])\n",
    "ax.set_xlabel('Regularization HyperParameter: C')\n",
    "ax.set_ylabel('Log Loss')\n",
    "ax.set_ylim([0.5, 0.62])\n",
    "g = plt.title('Log Loss Test Performance by Regularization Weight C')"
   ]
  },
  {
   "cell_type": "markdown",
   "metadata": {},
   "source": [
    "<b>Analysis</b>: Which value of $C$ yields the best results, in terms of loss?"
   ]
  },
  {
   "cell_type": "markdown",
   "metadata": {},
   "source": [
    "When C value is 0.001 do we get the best results in terms of loss."
   ]
  },
  {
   "cell_type": "markdown",
   "metadata": {},
   "source": [
    "#### Plot Accuracy\n",
    "\n",
    "Execute the code below below to plot the resulting accuracy for every value of hyperparameter $C$."
   ]
  },
  {
   "cell_type": "code",
   "execution_count": 31,
   "metadata": {},
   "outputs": [
    {
     "data": {
      "image/png": "[encoded data removed]",
      "text/plain": [
       "<Figure size 432x288 with 1 Axes>"
      ]
     },
     "metadata": {
      "needs_background": "light"
     },
     "output_type": "display_data"
    }
   ],
   "source": [
    "fig = plt.figure()\n",
    "ax = fig.add_subplot(111)\n",
    "x = np.log10(cs)\n",
    "\n",
    "sns.lineplot(x=x, y=acc_cs, marker='o')\n",
    "\n",
    "plt.title(\"Accuracy Test Performance by Regularization Weight C'\")\n",
    "plt.xlabel(\"Regularization HyperParameter: C\")\n",
    "plt.ylabel(\"Accuracy\")\n",
    "plt.show()"
   ]
  },
  {
   "cell_type": "markdown",
   "metadata": {},
   "source": [
    "<b>Analysis</b>: Which value of $C$ yields the best results, in terms of accuracy?"
   ]
  },
  {
   "cell_type": "markdown",
   "metadata": {},
   "source": [
    "When C value is 0.001 do we get the best results in terms of accuracy."
   ]
  },
  {
   "cell_type": "code",
   "execution_count": null,
   "metadata": {},
   "outputs": [],
   "source": []
  }
 ],
 "metadata": {
  "kernelspec": {
   "display_name": "Python 3",
   "language": "python",
   "name": "python3"
  },
  "language_info": {
   "codemirror_mode": {
    "name": "ipython",
    "version": 3
   },
   "file_extension": ".py",
   "mimetype": "text/x-python",
   "name": "python",
   "nbconvert_exporter": "python",
   "pygments_lexer": "ipython3",
   "version": "3.6.9"
  },
  "toc": {
   "base_numbering": 1,
   "nav_menu": {},
   "number_sections": false,
   "sideBar": true,
   "skip_h1_title": false,
   "title_cell": "Table of Contents",
   "title_sidebar": "Contents",
   "toc_cell": false,
   "toc_position": {},
   "toc_section_display": true,
   "toc_window_display": false
  },
  "varInspector": {
   "cols": {
    "lenName": 16,
    "lenType": 16,
    "lenVar": 40
   },
   "kernels_config": {
    "python": {
     "delete_cmd_postfix": "",
     "delete_cmd_prefix": "del ",
     "library": "var_list.py",
     "varRefreshCmd": "print(var_dic_list())"
    },
    "r": {
     "delete_cmd_postfix": ") ",
     "delete_cmd_prefix": "rm(",
     "library": "var_list.r",
     "varRefreshCmd": "cat(var_dic_list()) "
    }
   },
   "types_to_exclude": [
    "module",
    "function",
    "builtin_function_or_method",
    "instance",
    "_Feature"
   ],
   "window_display": false
  }
 },
 "nbformat": 4,
 "nbformat_minor": 2
}
