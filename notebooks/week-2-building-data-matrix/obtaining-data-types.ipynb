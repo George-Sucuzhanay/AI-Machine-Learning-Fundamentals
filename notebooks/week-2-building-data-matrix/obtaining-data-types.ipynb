{
 "cells": [
  {
   "cell_type": "markdown",
   "metadata": {},
   "source": [
    "# Obtaining Data Types in a Matrix Column"
   ]
  },
  {
   "cell_type": "markdown",
   "metadata": {},
   "source": [
    "### Import the Packages:"
   ]
  },
  {
   "cell_type": "code",
   "execution_count": null,
   "metadata": {},
   "outputs": [],
   "source": [
    "import pandas as pd\n",
    "import numpy as np\n",
    "import os "
   ]
  },
  {
   "cell_type": "markdown",
   "metadata": {},
   "source": [
    "### Load the Dataset"
   ]
  },
  {
   "cell_type": "code",
   "execution_count": null,
   "metadata": {},
   "outputs": [],
   "source": [
    "filename = os.path.join(os.getcwd(), \"data\", \"adult.data.partial\")\n",
    "df = pd.read_csv(filename, header=0)"
   ]
  },
  {
   "cell_type": "markdown",
   "metadata": {},
   "source": [
    "### Inspect the Data \n",
    "Use the `head()` method to inspect DataFrame `df`."
   ]
  },
  {
   "cell_type": "code",
   "execution_count": null,
   "metadata": {},
   "outputs": [],
   "source": [
    "df.head()"
   ]
  },
  {
   "cell_type": "markdown",
   "metadata": {},
   "source": [
    "### Get summary statistics by column using Pandas `describe()` Method"
   ]
  },
  {
   "cell_type": "markdown",
   "metadata": {
    "collapsed": true
   },
   "source": [
    "One useful way to quickly overview data and get insight into key statistics for each column is to use the Pandas DataFrame `describe()` method. Run the cell below to get more information about `describe()`. You can also access the online [documentation](https://pandas.pydata.org/docs/reference/api/pandas.DataFrame.describe.html)."
   ]
  },
  {
   "cell_type": "code",
   "execution_count": null,
   "metadata": {},
   "outputs": [],
   "source": [
    "df.describe?"
   ]
  },
  {
   "cell_type": "markdown",
   "metadata": {},
   "source": [
    "The code cell below runs the `describe()` method on DataFrame `df`. "
   ]
  },
  {
   "cell_type": "code",
   "execution_count": null,
   "metadata": {},
   "outputs": [],
   "source": [
    "df.describe()"
   ]
  },
  {
   "cell_type": "markdown",
   "metadata": {},
   "source": [
    "###  Get the Data Types for all Columns using Pandas `dtypes` Property."
   ]
  },
  {
   "cell_type": "markdown",
   "metadata": {},
   "source": [
    "Note that some columns are excluded from the summary statistics above. This is because by default, the `decribe()` method only includes numerically valued columns. You can inspect the data type of a column's values by using the `dtypes` property. Run the code cell below and inspect the results."
   ]
  },
  {
   "cell_type": "code",
   "execution_count": null,
   "metadata": {},
   "outputs": [],
   "source": [
    "df.dtypes"
   ]
  },
  {
   "cell_type": "markdown",
   "metadata": {},
   "source": [
    "Let's take a closer look at the results.\n",
    "Even if you are familiar with the data types in python, the results above may seem confusing. For example, what is an `object` type?\n",
    "Not to worry: Pandas uses its own convention for referring to data types. Here is a simple table to help you map Pandas data types to other data types:"
   ]
  },
  {
   "cell_type": "markdown",
   "metadata": {},
   "source": [
    "<table>\n",
    "  <tr>\n",
    "    <th>Pandas dtype       </th>\n",
    "    <th>Python type        </th>\n",
    "    <th>NumPy type         </th>   \n",
    "      <th>Usage</th>\n",
    "      <tr><td>object</td><td>str or mixed</td><td>string_, unicode_, mixed types</td><td>Text or mixed numeric and non-numeric values</td><tr>\n",
    "<tr><td>int64\t</td><td>int</td><td>int_, int8, int16, int32, int64, uint8, uint16, uint32, uint64</td><td>Integer numbers</td></tr>\n",
    "<tr><td>float64</td><td>float</td><td>float_, float16, float32, float64</td><td>Floating point numbers</td></tr>\n",
    "<tr><td>bool</td><td>bool</td><td>bool_</td><td>True/False values</td></tr>\n",
    "<tr><td>datetime64</td><td>NA</td><td>datetime64[ns]</td><td>Date and time values</td></tr>\n",
    "\n",
    "  </tr>\n",
    "     <tr>\n",
    "      <td>category</td>\t\n",
    "      <td>NA\t</td>\n",
    "      <td>NA\t</td>\n",
    "      <td>Finite list of text values</td>\n",
    "  </tr>\n",
    "  <tr>\n",
    "    <td>timedelta[ns]</td>\n",
    "    <td>NA</td>\n",
    "       <td>NA</td>\n",
    "    <td>Differences between two datetimes</td>\n",
    "  </tr>\n",
    "  <tr>\n",
    "      <td>category</td>\t\n",
    "      <td>NA\t</td>\n",
    "      <td>NA\t</td>\n",
    "      <td>Finite list of text values</td>\n",
    "  </tr>\n",
    "    \n",
    "</table>\n",
    "\n"
   ]
  },
  {
   "cell_type": "markdown",
   "metadata": {},
   "source": [
    "In the cell below, call `df.describe()` with the paramter `include='all'` . This will produce summary statistics for all columns in DataFrame `df`. Examine the results. The `describe()` method now produces a quick and easy way to access balance with regard to the label, sex, race, and other columns contaning string\n",
    "values.\n",
    "In particular, observe the values in `count`, `unique`, and `top`  for the `label` column:\n",
    "our dataset does not appear to have a stark imbalance of one of the label classes."
   ]
  },
  {
   "cell_type": "code",
   "execution_count": null,
   "metadata": {
    "scrolled": false
   },
   "outputs": [],
   "source": [
    "# YOUR CODE HERE - this cell will not be graded\n",
    "df.describe(include='all')"
   ]
  },
  {
   "cell_type": "markdown",
   "metadata": {},
   "source": [
    "### A More Detailed Way to Read Column Types using `pd.api.types.infer_dtype()`"
   ]
  },
  {
   "cell_type": "markdown",
   "metadata": {},
   "source": [
    "The code cell below creates a dictionary in which each key corresponds to a column name and each value corresponds to its data type. It uses the function `pd.api.types.infer_dtype()` to find the data type of each column. Run the cell below and inspect the results."
   ]
  },
  {
   "cell_type": "code",
   "execution_count": null,
   "metadata": {},
   "outputs": [],
   "source": [
    "types_dict = {}\n",
    "for column in df.columns:\n",
    "    types_dict[column] = pd.api.types.infer_dtype(df[column])\n",
    "\n",
    "types_dict"
   ]
  },
  {
   "cell_type": "code",
   "execution_count": null,
   "metadata": {},
   "outputs": [],
   "source": []
  }
 ],
 "metadata": {
  "kernelspec": {
   "display_name": "Python 3",
   "language": "python",
   "name": "python3"
  },
  "language_info": {
   "codemirror_mode": {
    "name": "ipython",
    "version": 3
   },
   "file_extension": ".py",
   "mimetype": "text/x-python",
   "name": "python",
   "nbconvert_exporter": "python",
   "pygments_lexer": "ipython3",
   "version": "3.6.9"
  },
  "toc": {
   "base_numbering": 1,
   "nav_menu": {},
   "number_sections": false,
   "sideBar": true,
   "skip_h1_title": false,
   "title_cell": "Table of Contents",
   "title_sidebar": "Contents",
   "toc_cell": false,
   "toc_position": {},
   "toc_section_display": true,
   "toc_window_display": false
  },
  "varInspector": {
   "cols": {
    "lenName": 16,
    "lenType": 16,
    "lenVar": 40
   },
   "kernels_config": {
    "python": {
     "delete_cmd_postfix": "",
     "delete_cmd_prefix": "del ",
     "library": "var_list.py",
     "varRefreshCmd": "print(var_dic_list())"
    },
    "r": {
     "delete_cmd_postfix": ") ",
     "delete_cmd_prefix": "rm(",
     "library": "var_list.r",
     "varRefreshCmd": "cat(var_dic_list()) "
    }
   },
   "types_to_exclude": [
    "module",
    "function",
    "builtin_function_or_method",
    "instance",
    "_Feature"
   ],
   "window_display": false
  }
 },
 "nbformat": 4,
 "nbformat_minor": 2
}
