{
 "cells": [
  {
   "cell_type": "markdown",
   "metadata": {},
   "source": [
    "# Building a Balanced Data Set"
   ]
  },
  {
   "cell_type": "markdown",
   "metadata": {},
   "source": [
    "Run the code cells below to import the packages."
   ]
  },
  {
   "cell_type": "code",
   "execution_count": 1,
   "metadata": {},
   "outputs": [],
   "source": [
    "import pandas as pd\n",
    "import numpy as np\n",
    "import os "
   ]
  },
  {
   "cell_type": "markdown",
   "metadata": {},
   "source": [
    "## Step 1: Inspect the Data\n"
   ]
  },
  {
   "cell_type": "markdown",
   "metadata": {},
   "source": [
    " Run the code cell below to load the dataset and save it as a Pandas DataFrame."
   ]
  },
  {
   "cell_type": "code",
   "execution_count": 2,
   "metadata": {},
   "outputs": [],
   "source": [
    "filename = os.path.join(os.getcwd(), \"data\", \"adult.data.partial\")\n",
    "df = pd.read_csv(filename, header=0)"
   ]
  },
  {
   "cell_type": "markdown",
   "metadata": {},
   "source": [
    "Run the code cell below to glance at the data. Note that one column has the name \"label\". This column will serve as the label (value we want to predict). The `label` column contains two possible values (or two possible classes) `<=50k` and `>50k`. This corresponds to income. Since the label can be one of two classes, this dataset is suitable for a binary classification problem.  The other columns will serve as the features. \n",
    "\n",
    "<b>Note: Throughout the exercises you will see some terms used interchangeably. You will see features and labels referred to as \"variables.\" Since our data will be in the form of a DataFrame, we will often use the term \"column\" interchangeably with \"feature\" or \"label,\" depending on the column in question. For example, in our `adult` dataset, `age` can be referred to as both a \"column\" and a \"feature.\"</b>"
   ]
  },
  {
   "cell_type": "code",
   "execution_count": 3,
   "metadata": {},
   "outputs": [
    {
     "data": {
      "text/html": [
       "<div>\n",
       "<style scoped>\n",
       "    .dataframe tbody tr th:only-of-type {\n",
       "        vertical-align: middle;\n",
       "    }\n",
       "\n",
       "    .dataframe tbody tr th {\n",
       "        vertical-align: top;\n",
       "    }\n",
       "\n",
       "    .dataframe thead th {\n",
       "        text-align: right;\n",
       "    }\n",
       "</style>\n",
       "<table border=\"1\" class=\"dataframe\">\n",
       "  <thead>\n",
       "    <tr style=\"text-align: right;\">\n",
       "      <th></th>\n",
       "      <th>age</th>\n",
       "      <th>workclass</th>\n",
       "      <th>fnlwgt</th>\n",
       "      <th>education</th>\n",
       "      <th>education-num</th>\n",
       "      <th>marital-status</th>\n",
       "      <th>occupation</th>\n",
       "      <th>relationship</th>\n",
       "      <th>race</th>\n",
       "      <th>sex_selfID</th>\n",
       "      <th>capital-gain</th>\n",
       "      <th>capital-loss</th>\n",
       "      <th>hours-per-week</th>\n",
       "      <th>native-country</th>\n",
       "      <th>label</th>\n",
       "    </tr>\n",
       "  </thead>\n",
       "  <tbody>\n",
       "    <tr>\n",
       "      <th>0</th>\n",
       "      <td>36</td>\n",
       "      <td>State-gov</td>\n",
       "      <td>112074</td>\n",
       "      <td>Doctorate</td>\n",
       "      <td>16</td>\n",
       "      <td>Never-married</td>\n",
       "      <td>Prof-specialty</td>\n",
       "      <td>Not-in-family</td>\n",
       "      <td>White</td>\n",
       "      <td>Non-Female</td>\n",
       "      <td>0</td>\n",
       "      <td>0</td>\n",
       "      <td>45</td>\n",
       "      <td>United-States</td>\n",
       "      <td>&lt;=50K</td>\n",
       "    </tr>\n",
       "    <tr>\n",
       "      <th>1</th>\n",
       "      <td>35</td>\n",
       "      <td>Private</td>\n",
       "      <td>32528</td>\n",
       "      <td>HS-grad</td>\n",
       "      <td>9</td>\n",
       "      <td>Married-civ-spouse</td>\n",
       "      <td>Handlers-cleaners</td>\n",
       "      <td>Husband</td>\n",
       "      <td>White</td>\n",
       "      <td>Non-Female</td>\n",
       "      <td>0</td>\n",
       "      <td>0</td>\n",
       "      <td>45</td>\n",
       "      <td>United-States</td>\n",
       "      <td>&lt;=50K</td>\n",
       "    </tr>\n",
       "    <tr>\n",
       "      <th>2</th>\n",
       "      <td>21</td>\n",
       "      <td>Private</td>\n",
       "      <td>270043</td>\n",
       "      <td>Some-college</td>\n",
       "      <td>10</td>\n",
       "      <td>Never-married</td>\n",
       "      <td>Other-service</td>\n",
       "      <td>Own-child</td>\n",
       "      <td>White</td>\n",
       "      <td>Female</td>\n",
       "      <td>0</td>\n",
       "      <td>0</td>\n",
       "      <td>16</td>\n",
       "      <td>United-States</td>\n",
       "      <td>&lt;=50K</td>\n",
       "    </tr>\n",
       "    <tr>\n",
       "      <th>3</th>\n",
       "      <td>45</td>\n",
       "      <td>Private</td>\n",
       "      <td>168837</td>\n",
       "      <td>Some-college</td>\n",
       "      <td>10</td>\n",
       "      <td>Married-civ-spouse</td>\n",
       "      <td>Adm-clerical</td>\n",
       "      <td>Wife</td>\n",
       "      <td>White</td>\n",
       "      <td>Female</td>\n",
       "      <td>0</td>\n",
       "      <td>0</td>\n",
       "      <td>24</td>\n",
       "      <td>Canada</td>\n",
       "      <td>&gt;50K</td>\n",
       "    </tr>\n",
       "    <tr>\n",
       "      <th>4</th>\n",
       "      <td>39</td>\n",
       "      <td>Private</td>\n",
       "      <td>297449</td>\n",
       "      <td>Bachelors</td>\n",
       "      <td>13</td>\n",
       "      <td>Married-civ-spouse</td>\n",
       "      <td>Prof-specialty</td>\n",
       "      <td>Husband</td>\n",
       "      <td>White</td>\n",
       "      <td>Non-Female</td>\n",
       "      <td>0</td>\n",
       "      <td>0</td>\n",
       "      <td>40</td>\n",
       "      <td>United-States</td>\n",
       "      <td>&gt;50K</td>\n",
       "    </tr>\n",
       "  </tbody>\n",
       "</table>\n",
       "</div>"
      ],
      "text/plain": [
       "   age  workclass  fnlwgt     education  education-num      marital-status  \\\n",
       "0   36  State-gov  112074     Doctorate             16       Never-married   \n",
       "1   35    Private   32528       HS-grad              9  Married-civ-spouse   \n",
       "2   21    Private  270043  Some-college             10       Never-married   \n",
       "3   45    Private  168837  Some-college             10  Married-civ-spouse   \n",
       "4   39    Private  297449     Bachelors             13  Married-civ-spouse   \n",
       "\n",
       "          occupation   relationship   race  sex_selfID  capital-gain  \\\n",
       "0     Prof-specialty  Not-in-family  White  Non-Female             0   \n",
       "1  Handlers-cleaners        Husband  White  Non-Female             0   \n",
       "2      Other-service      Own-child  White      Female             0   \n",
       "3       Adm-clerical           Wife  White      Female             0   \n",
       "4     Prof-specialty        Husband  White  Non-Female             0   \n",
       "\n",
       "   capital-loss  hours-per-week native-country  label  \n",
       "0             0              45  United-States  <=50K  \n",
       "1             0              45  United-States  <=50K  \n",
       "2             0              16  United-States  <=50K  \n",
       "3             0              24         Canada   >50K  \n",
       "4             0              40  United-States   >50K  "
      ]
     },
     "execution_count": 3,
     "metadata": {},
     "output_type": "execute_result"
    }
   ],
   "source": [
    "df.head()"
   ]
  },
  {
   "cell_type": "markdown",
   "metadata": {},
   "source": [
    "Run the code cell below to see the shape of the data."
   ]
  },
  {
   "cell_type": "code",
   "execution_count": 4,
   "metadata": {},
   "outputs": [
    {
     "data": {
      "text/plain": [
       "(7000, 15)"
      ]
     },
     "execution_count": 4,
     "metadata": {},
     "output_type": "execute_result"
    }
   ],
   "source": [
    "df.shape"
   ]
  },
  {
   "cell_type": "markdown",
   "metadata": {},
   "source": [
    "## Step 2: Random Sampling From the Data"
   ]
  },
  {
   "cell_type": "markdown",
   "metadata": {},
   "source": [
    "Complete the code in the cell below to randomly select 30% of the examples (rows) and save them to new DataFrame `df_subset`. To accomplish this, use `np.random.choice()` to obtain 30% of row indices and save the result to variable `indices`."
   ]
  },
  {
   "cell_type": "markdown",
   "metadata": {},
   "source": [
    "### Graded Cell\n",
    "\n",
    "The cell below will be graded. Remove the line \"raise NotImplementedError()\" before writing your code."
   ]
  },
  {
   "cell_type": "code",
   "execution_count": 8,
   "metadata": {
    "deletable": false,
    "nbgrader": {
     "checksum": "77e00f2ee8cc0b887e6a2760b16fa18a",
     "grade": false,
     "grade_id": "cell-sampling",
     "locked": false,
     "schema_version": 1,
     "solution": true
    }
   },
   "outputs": [],
   "source": [
    "percentage = 0.3\n",
    "num_rows = df.shape[0]\n",
    "\n",
    "# YOUR CODE HERE\n",
    "indices = np.random.choice(df.index, size=int(percentage * num_rows), replace=False)\n",
    "df_subset = df.loc[indices]\n",
    "\n",
    "\n"
   ]
  },
  {
   "cell_type": "markdown",
   "metadata": {},
   "source": [
    "### Self-Check\n",
    "\n",
    "Run the cell below to test the correctness of your code above before submitting for grading. Do not add code or delete code in the cell."
   ]
  },
  {
   "cell_type": "code",
   "execution_count": 9,
   "metadata": {
    "deletable": false,
    "editable": false,
    "nbgrader": {
     "checksum": "f24f214014547b7cd0e2bea1292322a5",
     "grade": true,
     "grade_id": "cell-sampling-test",
     "locked": true,
     "points": 1,
     "schema_version": 1,
     "solution": false
    }
   },
   "outputs": [
    {
     "name": "stdout",
     "output_type": "stream",
     "text": [
      "Correct!\n"
     ]
    }
   ],
   "source": [
    "# Run this self-test cell to check your code; \n",
    "# do not add code or delete code in this cell\n",
    "from jn import testSubset\n",
    "\n",
    "try:\n",
    "    p, err = testSubset(df, df_subset, indices)\n",
    "    print(err)\n",
    "except Exception as e:\n",
    "    print(\"Error!\\n\" + str(e))\n",
    "    \n"
   ]
  },
  {
   "cell_type": "markdown",
   "metadata": {},
   "source": [
    "The code cell below displays the shape (number of rows and columns) of the resulting sample. Run the cell and examine the results. DataFrame `df_subset` should contain 30% of the row number in the original DataFrame."
   ]
  },
  {
   "cell_type": "code",
   "execution_count": 10,
   "metadata": {},
   "outputs": [
    {
     "name": "stdout",
     "output_type": "stream",
     "text": [
      "(7000, 15)\n",
      "(2100, 15)\n"
     ]
    }
   ],
   "source": [
    "print(df.shape)\n",
    "print(df_subset.shape)"
   ]
  },
  {
   "cell_type": "markdown",
   "metadata": {},
   "source": [
    "## Step 3: Verifying (im)balance"
   ]
  },
  {
   "cell_type": "markdown",
   "metadata": {},
   "source": [
    "Is our sample *balanced* with respect to (self-reported) sex? In order to answer that, first we'd like to know how many categories exist for the 'sex_selfID' values in our data."
   ]
  },
  {
   "cell_type": "markdown",
   "metadata": {},
   "source": [
    "### Listing unique values of a column using Pandas `unique()` Method."
   ]
  },
  {
   "cell_type": "markdown",
   "metadata": {},
   "source": [
    "You will be using the `pandas` `unique()` method to display all unique values from the column `sex_selfID`. To see how to use the `unique()` method, run the cell below and examine the documentation.\n",
    "\n",
    "You can also access the online [documentation](https://pandas.pydata.org/docs/reference/api/pandas.Series.unique.html)."
   ]
  },
  {
   "cell_type": "code",
   "execution_count": 22,
   "metadata": {},
   "outputs": [],
   "source": [
    "pd.unique?"
   ]
  },
  {
   "cell_type": "markdown",
   "metadata": {},
   "source": [
    "The `unique()` method follows the `pandas` series after a dot, like so:  `<pandas_series>.unique()`. \n",
    "We want to apply `unique` to the entire column with the name `sex_selfID` and save the result to the variable `unique_ssID`. \n",
    "\n",
    "1. To select a column, simply write `df['<column_name>']`. \n",
    "2. To call the `unique() method`, write `df['<column_name>'].unique()`.\n",
    "\n",
    "\n",
    "Complete the code in the cell below. Note that the `unique()` method returns a `numpy` array."
   ]
  },
  {
   "cell_type": "markdown",
   "metadata": {},
   "source": [
    "### Graded Cell\n",
    "\n",
    "The cell below will be graded. Remove the line \"raise NotImplementedError()\" before writing your code."
   ]
  },
  {
   "cell_type": "code",
   "execution_count": 16,
   "metadata": {
    "deletable": false,
    "nbgrader": {
     "checksum": "d6fe61c00ba653aea35df486293ae879",
     "grade": false,
     "grade_id": "cell-unique",
     "locked": false,
     "schema_version": 1,
     "solution": true
    }
   },
   "outputs": [
    {
     "data": {
      "text/plain": [
       "array(['Non-Female', 'Female'], dtype=object)"
      ]
     },
     "execution_count": 16,
     "metadata": {},
     "output_type": "execute_result"
    }
   ],
   "source": [
    "unique_ssID = df['sex_selfID'].unique()\n",
    "unique_ssID"
   ]
  },
  {
   "cell_type": "markdown",
   "metadata": {},
   "source": [
    "### Self-Check\n",
    "\n",
    "Run the cell below to test the correctness of your code above before submitting for grading. Do not add code or delete code in the cell."
   ]
  },
  {
   "cell_type": "code",
   "execution_count": 17,
   "metadata": {
    "deletable": false,
    "editable": false,
    "nbgrader": {
     "checksum": "2a3a8d4a65453c66b8bb625cc3c78952",
     "grade": true,
     "grade_id": "cell-unique-test",
     "locked": true,
     "points": 1,
     "schema_version": 1,
     "solution": false
    }
   },
   "outputs": [
    {
     "name": "stdout",
     "output_type": "stream",
     "text": [
      "Correct!\n"
     ]
    }
   ],
   "source": [
    "# Run this self-test cell to check your code; \n",
    "# do not add code or delete code in this cell\n",
    "from jn import testUnique\n",
    "\n",
    "try:\n",
    "    p, err = testUnique(df, unique_ssID)\n",
    "    print(err)\n",
    "except Exception as e:\n",
    "    print(\"Error!\\n\" + str(e))\n",
    "    \n"
   ]
  },
  {
   "cell_type": "markdown",
   "metadata": {},
   "source": [
    "It is good to examine whether there are any non-standard spellings or unexpected missing values in the columns. In this case, we have exactly two unique values, (`Non-Female` and `Female`) so we can proceed. Note that this dataset, although still widely used in ML research, is from 1994 and is a bit outdated."
   ]
  },
  {
   "cell_type": "markdown",
   "metadata": {},
   "source": [
    "### Calculating the Proportion of Each Class"
   ]
  },
  {
   "cell_type": "markdown",
   "metadata": {},
   "source": [
    "How many 'Female' examples are in our data sample?\n",
    "\n",
    "The code cell below uses `np.sum()` to sum up  the `True` values that indicate whether a row has `Female` in the `sex_selfID` field. It divies that sum by the total number of rows in the DataFrame `df_subset`. Run the code to display the results. Note that the sample is not balanced with respect to self-reported sex (assuming that we want balance for the two classes)."
   ]
  },
  {
   "cell_type": "code",
   "execution_count": 23,
   "metadata": {},
   "outputs": [
    {
     "data": {
      "text/plain": [
       "0.31285714285714283"
      ]
     },
     "execution_count": 23,
     "metadata": {},
     "output_type": "execute_result"
    }
   ],
   "source": [
    "percent_female = np.sum(df_subset['sex_selfID']=='Female')/df_subset['sex_selfID'].shape[0]\n",
    "percent_female"
   ]
  },
  {
   "cell_type": "markdown",
   "metadata": {},
   "source": [
    "For a column that has a large amout of categories, doing the above computation for each value would be tedious. One of the more efficient ways to compute class proportions would be to use the `value_counts()` method from `Pandas`. Run the cells below."
   ]
  },
  {
   "cell_type": "code",
   "execution_count": 24,
   "metadata": {},
   "outputs": [
    {
     "data": {
      "text/plain": [
       "Non-Female    1443\n",
       "Female         657\n",
       "Name: sex_selfID, dtype: int64"
      ]
     },
     "execution_count": 24,
     "metadata": {},
     "output_type": "execute_result"
    }
   ],
   "source": [
    "counts = df_subset['sex_selfID'].value_counts()\n",
    "counts"
   ]
  },
  {
   "cell_type": "code",
   "execution_count": 25,
   "metadata": {},
   "outputs": [
    {
     "data": {
      "text/plain": [
       "0.31285714285714283"
      ]
     },
     "execution_count": 25,
     "metadata": {},
     "output_type": "execute_result"
    }
   ],
   "source": [
    "counts['Female']/sum(counts.values)"
   ]
  },
  {
   "cell_type": "markdown",
   "metadata": {},
   "source": [
    "Now let's examine balance with respect to race.<br>\n",
    "In the code cell below, display the total number of examples belonging to each `race` column in DataFrame `df_subset`. Use the more efficient Pandas `value_counts()` method, as demonstrated above. \n",
    "\n",
    "\n",
    "1. Get the `race` column from `df_subset` using bracket notation.\n",
    "2. Apply the `value_counts()` method as demonstrated above.\n",
    "3. Save the results to variable `num_examples`.\n",
    "\n",
    "\n",
    "Run the code cell and examine the results. You'll note that the sample is unbalanced with respect to the race categories present in the data sample."
   ]
  },
  {
   "cell_type": "markdown",
   "metadata": {},
   "source": [
    "### Graded Cell\n",
    "\n",
    "The cell below will be graded. Remove the line \"raise NotImplementedError()\" before writing your code."
   ]
  },
  {
   "cell_type": "code",
   "execution_count": 29,
   "metadata": {
    "deletable": false,
    "nbgrader": {
     "checksum": "38a53b45719af1897859281b094a1cb5",
     "grade": false,
     "grade_id": "cell-numexamples",
     "locked": false,
     "schema_version": 1,
     "solution": true
    }
   },
   "outputs": [],
   "source": [
    "num_examples = df_subset['race'].value_counts()"
   ]
  },
  {
   "cell_type": "markdown",
   "metadata": {},
   "source": [
    "### Self-Check\n",
    "\n",
    "Run the cell below to test the correctness of your code above before submitting for grading. Do not add code or delete code in the cell."
   ]
  },
  {
   "cell_type": "code",
   "execution_count": 30,
   "metadata": {
    "deletable": false,
    "editable": false,
    "nbgrader": {
     "checksum": "c2855418dfbbfb66074955494ada29f1",
     "grade": true,
     "grade_id": "cell-numexamples-test",
     "locked": true,
     "points": 2,
     "schema_version": 1,
     "solution": false
    }
   },
   "outputs": [
    {
     "name": "stdout",
     "output_type": "stream",
     "text": [
      "Correct!\n"
     ]
    }
   ],
   "source": [
    "# Run this self-test cell to check your code; \n",
    "# do not add code or delete code in this cell\n",
    "from jn import testNumExamples\n",
    "\n",
    "try:\n",
    "    p, err = testNumExamples(df_subset, num_examples)\n",
    "    print(err)\n",
    "except Exception as e:\n",
    "    print(\"Error!\\n\" + str(e))\n",
    "    \n"
   ]
  },
  {
   "cell_type": "markdown",
   "metadata": {},
   "source": [
    "### Detecting group (im)balance with respect to the label using  Pandas `groupby()` Method."
   ]
  },
  {
   "cell_type": "markdown",
   "metadata": {},
   "source": [
    "\n",
    "Generally, there are many different kinds of balance. The simplest way to define 'balance' is to require  that the total number of representatives in each category is the same. For the purposes of fairness, this may mean that the number of females is the same as the number of non-females.\n",
    "\n",
    "But what about the label? The usual kind of balance that machine learning engineers seek is that of labels. In our dataset, the label is one of two income values: <=50k or >50k. We want the dataset to have equal representation of 'high income' and 'low income' examples.\n",
    "A more nuanced approach, however, is to look for balance in each intersection of labels and sensitive feature values. Indeed, imagine a dataset in which the number of white and non-white people is the same, yet the label values are not balanced among the two groups.\n",
    "Training an ML model on such a dataset would likely produce a biased model (we will discuss this in more detail further in the course).\n",
    "In other words, we would like to see that for each value of the label, there is an equal representation between the demographic subgroups.\n"
   ]
  },
  {
   "cell_type": "markdown",
   "metadata": {},
   "source": [
    "Establish whether there is a balance between the two categories of `sex_selfID` with respect to the label.\n",
    "    In other words, check if in our sample, the number of females who have one kind of label is the same as the number of non-females with that label (i.e., the value in the column `label` is '<=50K'). Do the same for the other label (the value in the column `label` is '>50K'). You can do this by using the Pandas `groupby()`  method to aggregate the subsample data by `sex_selfID` and `label`. Then, use the `size()` method on the resulting object.\n",
    "For more information about the method `groupby()`, consult the online [documentatiion](https://pandas.pydata.org/docs/reference/api/pandas.DataFrame.groupby.html).\n",
    "\n",
    "The code cell below accomplishes this task. Run the cell and inspect the results."
   ]
  },
  {
   "cell_type": "code",
   "execution_count": 31,
   "metadata": {},
   "outputs": [
    {
     "data": {
      "text/plain": [
       "sex_selfID  label\n",
       "Female      <=50K    584\n",
       "            >50K      73\n",
       "Non-Female  <=50K    982\n",
       "            >50K     461\n",
       "dtype: int64"
      ]
     },
     "execution_count": 31,
     "metadata": {},
     "output_type": "execute_result"
    }
   ],
   "source": [
    "df_subset.groupby(['sex_selfID', 'label']).size()"
   ]
  },
  {
   "cell_type": "markdown",
   "metadata": {},
   "source": [
    "### Addressing imbalance: upsampling the underrepresented group."
   ]
  },
  {
   "cell_type": "markdown",
   "metadata": {},
   "source": [
    "It seems that the females are underrepresented in the 'higher income' group, compared to non-females.<br>\n",
    "What can we do about this? There are many ways to go about dealing with this imbalance.\n",
    "For the purposes of this exercise, we will sample additional points from the original full DataFrame `df` into the group of Females with income >50k. We will sample until the ratio of the two subgroup sizes (Females with income >50k and Females with income <=50K) is the same as the ratio of higher to lower income non-females."
   ]
  },
  {
   "cell_type": "markdown",
   "metadata": {},
   "source": [
    "The next two cells are non-graded. Simply run the cells below and inspect the results."
   ]
  },
  {
   "cell_type": "code",
   "execution_count": 32,
   "metadata": {},
   "outputs": [
    {
     "data": {
      "text/plain": [
       "201"
      ]
     },
     "execution_count": 32,
     "metadata": {},
     "output_type": "execute_result"
    }
   ],
   "source": [
    "low_income_nonfemale, high_income_nonfemale = df_subset.groupby(['sex_selfID', 'label']).size()['Non-Female']\n",
    "class_balance_nonfemale = high_income_nonfemale / low_income_nonfemale\n",
    "\n",
    "low_income_female, high_income_female = df_subset.groupby(['sex_selfID', 'label']).size()['Female']\n",
    "\n",
    "add_sample_size = int(class_balance_nonfemale*low_income_female - high_income_female)\n",
    "add_sample_size # we need this many more points in (Female)&(>50K) group for balance"
   ]
  },
  {
   "cell_type": "code",
   "execution_count": 33,
   "metadata": {},
   "outputs": [
    {
     "data": {
      "text/html": [
       "<div>\n",
       "<style scoped>\n",
       "    .dataframe tbody tr th:only-of-type {\n",
       "        vertical-align: middle;\n",
       "    }\n",
       "\n",
       "    .dataframe tbody tr th {\n",
       "        vertical-align: top;\n",
       "    }\n",
       "\n",
       "    .dataframe thead th {\n",
       "        text-align: right;\n",
       "    }\n",
       "</style>\n",
       "<table border=\"1\" class=\"dataframe\">\n",
       "  <thead>\n",
       "    <tr style=\"text-align: right;\">\n",
       "      <th></th>\n",
       "      <th>age</th>\n",
       "      <th>workclass</th>\n",
       "      <th>fnlwgt</th>\n",
       "      <th>education</th>\n",
       "      <th>education-num</th>\n",
       "      <th>marital-status</th>\n",
       "      <th>occupation</th>\n",
       "      <th>relationship</th>\n",
       "      <th>race</th>\n",
       "      <th>sex_selfID</th>\n",
       "      <th>capital-gain</th>\n",
       "      <th>capital-loss</th>\n",
       "      <th>hours-per-week</th>\n",
       "      <th>native-country</th>\n",
       "      <th>label</th>\n",
       "    </tr>\n",
       "  </thead>\n",
       "  <tbody>\n",
       "    <tr>\n",
       "      <th>4807</th>\n",
       "      <td>26</td>\n",
       "      <td>Private</td>\n",
       "      <td>126829</td>\n",
       "      <td>Some-college</td>\n",
       "      <td>10</td>\n",
       "      <td>Never-married</td>\n",
       "      <td>Sales</td>\n",
       "      <td>Not-in-family</td>\n",
       "      <td>White</td>\n",
       "      <td>Non-Female</td>\n",
       "      <td>0</td>\n",
       "      <td>0</td>\n",
       "      <td>40</td>\n",
       "      <td>United-States</td>\n",
       "      <td>&lt;=50K</td>\n",
       "    </tr>\n",
       "    <tr>\n",
       "      <th>2819</th>\n",
       "      <td>35</td>\n",
       "      <td>Self-emp-inc</td>\n",
       "      <td>135436</td>\n",
       "      <td>Prof-school</td>\n",
       "      <td>15</td>\n",
       "      <td>Married-civ-spouse</td>\n",
       "      <td>Prof-specialty</td>\n",
       "      <td>Husband</td>\n",
       "      <td>White</td>\n",
       "      <td>Non-Female</td>\n",
       "      <td>0</td>\n",
       "      <td>0</td>\n",
       "      <td>50</td>\n",
       "      <td>United-States</td>\n",
       "      <td>&gt;50K</td>\n",
       "    </tr>\n",
       "    <tr>\n",
       "      <th>243</th>\n",
       "      <td>34</td>\n",
       "      <td>Private</td>\n",
       "      <td>321787</td>\n",
       "      <td>Some-college</td>\n",
       "      <td>10</td>\n",
       "      <td>Never-married</td>\n",
       "      <td>Adm-clerical</td>\n",
       "      <td>Own-child</td>\n",
       "      <td>White</td>\n",
       "      <td>Non-Female</td>\n",
       "      <td>0</td>\n",
       "      <td>0</td>\n",
       "      <td>40</td>\n",
       "      <td>United-States</td>\n",
       "      <td>&lt;=50K</td>\n",
       "    </tr>\n",
       "    <tr>\n",
       "      <th>4288</th>\n",
       "      <td>27</td>\n",
       "      <td>Private</td>\n",
       "      <td>89813</td>\n",
       "      <td>HS-grad</td>\n",
       "      <td>9</td>\n",
       "      <td>Never-married</td>\n",
       "      <td>Handlers-cleaners</td>\n",
       "      <td>Own-child</td>\n",
       "      <td>White</td>\n",
       "      <td>Female</td>\n",
       "      <td>0</td>\n",
       "      <td>0</td>\n",
       "      <td>40</td>\n",
       "      <td>United-States</td>\n",
       "      <td>&lt;=50K</td>\n",
       "    </tr>\n",
       "    <tr>\n",
       "      <th>5150</th>\n",
       "      <td>42</td>\n",
       "      <td>Private</td>\n",
       "      <td>30824</td>\n",
       "      <td>Masters</td>\n",
       "      <td>14</td>\n",
       "      <td>Divorced</td>\n",
       "      <td>Prof-specialty</td>\n",
       "      <td>Not-in-family</td>\n",
       "      <td>White</td>\n",
       "      <td>Female</td>\n",
       "      <td>2354</td>\n",
       "      <td>0</td>\n",
       "      <td>16</td>\n",
       "      <td>United-States</td>\n",
       "      <td>&lt;=50K</td>\n",
       "    </tr>\n",
       "  </tbody>\n",
       "</table>\n",
       "</div>"
      ],
      "text/plain": [
       "      age     workclass  fnlwgt     education  education-num  \\\n",
       "4807   26       Private  126829  Some-college             10   \n",
       "2819   35  Self-emp-inc  135436   Prof-school             15   \n",
       "243    34       Private  321787  Some-college             10   \n",
       "4288   27       Private   89813       HS-grad              9   \n",
       "5150   42       Private   30824       Masters             14   \n",
       "\n",
       "          marital-status         occupation   relationship   race  sex_selfID  \\\n",
       "4807       Never-married              Sales  Not-in-family  White  Non-Female   \n",
       "2819  Married-civ-spouse     Prof-specialty        Husband  White  Non-Female   \n",
       "243        Never-married       Adm-clerical      Own-child  White  Non-Female   \n",
       "4288       Never-married  Handlers-cleaners      Own-child  White      Female   \n",
       "5150            Divorced     Prof-specialty  Not-in-family  White      Female   \n",
       "\n",
       "      capital-gain  capital-loss  hours-per-week native-country  label  \n",
       "4807             0             0              40  United-States  <=50K  \n",
       "2819             0             0              50  United-States   >50K  \n",
       "243              0             0              40  United-States  <=50K  \n",
       "4288             0             0              40  United-States  <=50K  \n",
       "5150          2354             0              16  United-States  <=50K  "
      ]
     },
     "execution_count": 33,
     "metadata": {},
     "output_type": "execute_result"
    }
   ],
   "source": [
    "# Subset the original data: exclude entries that are already in our sample:\n",
    "df_never_sampled = df.drop(labels=df_subset.index, axis=0, inplace=False)\n",
    "\n",
    "# Filter that subset to include only the type of examples that we want to upsample: Females, higher income\n",
    "condition = (df_never_sampled['label']=='>50K') & (df_never_sampled['sex_selfID']=='Female')\n",
    "df_never_sampled_target = df_never_sampled[condition]\n",
    "\n",
    "# Sample from the resulting set\n",
    "size=min(add_sample_size, df_never_sampled_target.shape[0])\n",
    "indices = np.random.choice(df_never_sampled_target.index, size=size, replace=False)\n",
    "\n",
    "# Append the selected examples to our original sample\n",
    "rows = df.loc[indices]\n",
    "df_balanced_subset = df_subset.append(rows)\n",
    "df_balanced_subset.head()"
   ]
  },
  {
   "cell_type": "markdown",
   "metadata": {},
   "source": [
    "The code cell below checks the balance of this new DataFrame `balanced_subset_df`. Run the cell below and examine the results."
   ]
  },
  {
   "cell_type": "code",
   "execution_count": 34,
   "metadata": {},
   "outputs": [
    {
     "data": {
      "text/plain": [
       "sex_selfID  label\n",
       "Female      <=50K    584\n",
       "            >50K     253\n",
       "Non-Female  <=50K    982\n",
       "            >50K     461\n",
       "dtype: int64"
      ]
     },
     "execution_count": 34,
     "metadata": {},
     "output_type": "execute_result"
    }
   ],
   "source": [
    "df_balanced_subset.groupby(['sex_selfID', 'label']).size()\n"
   ]
  },
  {
   "cell_type": "markdown",
   "metadata": {
    "collapsed": true
   },
   "source": [
    "The resulting balance is not perfect, but it is better than before!"
   ]
  }
 ],
 "metadata": {
  "kernelspec": {
   "display_name": "Python 3",
   "language": "python",
   "name": "python3"
  },
  "language_info": {
   "codemirror_mode": {
    "name": "ipython",
    "version": 3
   },
   "file_extension": ".py",
   "mimetype": "text/x-python",
   "name": "python",
   "nbconvert_exporter": "python",
   "pygments_lexer": "ipython3",
   "version": "3.6.9"
  },
  "toc": {
   "base_numbering": 1,
   "nav_menu": {},
   "number_sections": false,
   "sideBar": true,
   "skip_h1_title": false,
   "title_cell": "Table of Contents",
   "title_sidebar": "Contents",
   "toc_cell": false,
   "toc_position": {},
   "toc_section_display": true,
   "toc_window_display": false
  },
  "varInspector": {
   "cols": {
    "lenName": 16,
    "lenType": 16,
    "lenVar": 40
   },
   "kernels_config": {
    "python": {
     "delete_cmd_postfix": "",
     "delete_cmd_prefix": "del ",
     "library": "var_list.py",
     "varRefreshCmd": "print(var_dic_list())"
    },
    "r": {
     "delete_cmd_postfix": ") ",
     "delete_cmd_prefix": "rm(",
     "library": "var_list.r",
     "varRefreshCmd": "cat(var_dic_list()) "
    }
   },
   "types_to_exclude": [
    "module",
    "function",
    "builtin_function_or_method",
    "instance",
    "_Feature"
   ],
   "window_display": false
  }
 },
 "nbformat": 4,
 "nbformat_minor": 2
}
